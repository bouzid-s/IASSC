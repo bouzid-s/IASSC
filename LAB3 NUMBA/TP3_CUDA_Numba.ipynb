{
 "cells": [
  {
   "cell_type": "markdown",
   "metadata": {},
   "source": [
    "<a id=\"1\"></a>\n",
    "# <div style=\"text-align:center; border-radius:15px 50px; padding:15px; color:white; margin:0; font-size:150%; font-family:Pacifico; background-color:#2a6199; overflow:hidden\"><b>  🧠  TP 3.1 -  Calcul Accélérée avec CUDA Python (NUMBA) </b> \n",
    "\n",
    "\n",
    "\n",
    "<div style=\"background-color:#eaf6fb; border-radius:8px; padding:20px; border-left:6px solid #4682b4; color:black; font-family:Arial, sans-serif;\">\n",
    "\n",
    "# <div style=\"text-align:center; border-radius:8px; padding:10px; color:white; margin:10px 0; font-size:110%; font-family:Arial, sans-serif; background-color: #4682b4;\"><b>1. Introduction à CUDA en Python avec Numba</b></div>\n",
    "\n",
    "\n",
    "<div style=\"background-color:#eaf6fb; border-radius:8px; padding:20px; border-left:6px solid #f17c12; color:black; font-family:Arial, sans-serif;\">\n",
    "\n",
    "## <div style=\"  background-color:rgba(136, 125, 125, 0.15); text-align:left; border-radius:6px; padding:px; color:white; margin:5px 0; font-size:70%; font-family:Arial, sans-serif; background-color: #f17c12;\"><b>1.1 CUDA </b> </div>\n",
    "\n",
    "\n",
    "**[CUDA](https://fr.wikipedia.org/wiki/CUDA)**  (Compute Unified Device Architecture)** est une plateforme de calcul parallèle et un modèle de programmation développé par **NVIDIA**. Elle permet aux développeurs d'exploiter la puissance des **GPU (Graphics Processing Units)** pour exécuter des calculs massivement parallèles, bien au-delà du rendu graphique.\n",
    "\n",
    "###  📌 Principales caractéristiques de CUDA :\n",
    "- **Exécution parallèle massive** : CUDA permet d’exécuter des milliers de threads en parallèle, optimisant ainsi les performances pour les calculs intensifs.\n",
    "- **Modèle de programmation basé sur C/C++ et Python** : CUDA offre une interface de programmation proche du langage C/C++, et peut être utilisé avec des bibliothèques Python comme **Numba** et **CuPy**.\n",
    "- **Hiérarchie des threads et mémoire optimisée** : CUDA organise l’exécution en blocs et grilles de threads, et exploite différentes mémoires (globale, partagée, constante) pour maximiser l’efficacité.\n",
    "- **Interopérabilité avec des bibliothèques d’IA et de calcul scientifique** : CUDA est utilisé dans de nombreuses applications, notamment en **deep learning (TensorFlow, PyTorch)**, **simulation numérique**, **traitement d’image** et **finance quantitative**.\n",
    "\n",
    "### 🚀 Pourquoi utiliser CUDA ?\n",
    "- Accélération des calculs par rapport aux CPU traditionnels.\n",
    "- Optimisation des performances pour des applications exigeantes.\n",
    "- Large écosystème et support des bibliothèques de calcul parallèle.\n",
    "\n",
    "CUDA est aujourd’hui une référence en matière de **calcul haute performance (HPC)** et est utilisé dans des domaines variés comme la **science des données, l’intelligence artificielle, la simulation physique et la vision par ordinateur**.\n",
    "</div>\n",
    "\n",
    "<div style=\"background-color:#eaf6fb; border-radius:8px; padding:20px; border-left:6px solid #f17c12; color:black; font-family:Arial, sans-serif;\">\n",
    "\n",
    "## <div style=\"text-align:left; border-radius:6px; padding:px; color:white; margin:5px 0; font-size:70%; font-family:Arial, sans-serif; background-color: #f17c12;\"><b>1.2 🔹 Numba : Un Compilateur Just-In-Time (JIT) pour Python </b></div> \n",
    "\n",
    "\n",
    "\n",
    "[**Numba**](http://numba.pydata.org/) est un **compilateur Just-In-Time (JIT)** pour **Python**, conçu pour accélérer les fonctions Python orientées **calcul numérique**. Il offre une interface simple permettant d'améliorer considérablement les performances d’exécution, en **remplaçant l’interpréteur Python standard par du code machine optimisé**.\n",
    "\n",
    "Numba permet d’accélérer les fonctions Python de deux manières :\n",
    "- **Sur CPU** : En générant du code natif optimisé pour l’architecture du processeur.\n",
    "- **Sur GPU NVIDIA** : En exploitant CUDA pour exécuter du code massivement parallèle sur le GPU.\n",
    "\n",
    "### 🔹 Concepts de Numba :\n",
    "\n",
    "- **Compilateur de fonctions** : Numba compile uniquement des **fonctions Python**, et non des applications entières ni des parties de fonctions. Il ne remplace pas l’interpréteur Python, mais agit comme un module Python qui transforme une fonction en une version (généralement) plus rapide.\n",
    "\n",
    "- **Spécialisation par type** : Numba accélère l’exécution en générant une **implémentation optimisée** pour les **types de données spécifiques** utilisés. Contrairement à Python, qui gère des types génériques (et donc plus lents), Numba génère un code hautement optimisé pour chaque ensemble de types rencontrés.\n",
    "\n",
    "- **Compilation Just-In-Time (JIT)** : Numba traduit les fonctions **au moment de leur première exécution**, garantissant ainsi une adaptation aux types d’arguments utilisés. Cette approche permet une utilisation interactive dans un **notebook Jupyter**, tout comme dans une application classique.\n",
    "\n",
    "- **Focalisé sur le calcul numérique** : Numba est principalement optimisé pour les types de données **numériques** (`int`, `float`, `complex`). Le support des chaînes de caractères est **très limité**, et leur utilisation sur GPU n’est pas recommandée. Pour tirer le meilleur parti de Numba, il est conseillé d’utiliser des **tableaux NumPy**.\n",
    "\n",
    "🚀 **En résumé, grâce à son intégration fluide avec **NumPy**, Numba est un outil puissant pour accélérer les calculs scientifiques en Python sans nécessiter de programmation en C/C++ ou CUDA.**\n",
    "\n",
    "\n",
    "\n",
    "</div>\n",
    "\n",
    "\n",
    "<div style=\"background-color: #e6f7ff; border-radius:8px; padding:15px; border-left:6px solid #1e90ff; color:black; font-family:Arial, sans-serif;\">\n",
    "\n",
    "### <img src=\"https://img.icons8.com/ios-filled/20/1e90ff/info--v1.png\" style=\"vertical-align:middle;\"/> 🎯 Objectifs de TP\n",
    "\n",
    "\n",
    "L'objectif de ce TP est d’explorer les techniques fondamentales permettant d’accélérer les applications Python sur GPU en utilisant Numba. À la fin de ce TP, vous serez capable de :\n",
    "\n",
    "- Utiliser Numba pour compiler des fonctions Python sur le CPU.\n",
    "- Comprendre comment Numba compile les fonctions Python.\n",
    "- Accélérer sur GPU les **ufuncs NumPy**.\n",
    "- Accélérer sur GPU des fonctions vectorisées écrites à la main.\n",
    "- Optimiser les transferts de données entre l’hôte (CPU) et le périphérique (GPU).\n",
    "\n",
    "</div>"
   ]
  },
  {
   "cell_type": "markdown",
   "metadata": {},
   "source": [
    "<div style=\"background-color:#eaf6fb; border-radius:8px; padding:20px; border-left:6px solid #4682b4; color:black; font-family:Arial, sans-serif;\">\n",
    "\n",
    "# <div style=\"text-align:center; border-radius:8px; padding:8px; color:white; margin:10px 0; font-size:100%; font-family:Arial, sans-serif; background-color:#4682b4;\"><b>🔍 2. 🚀 Premiers pas : Compilation pour le CPU </b></div>\n",
    "\n",
    "Numba peut être utilisé pour optimiser du code aussi bien pour un **CPU** que pour un **GPU**. Avant d’aborder l’accélération GPU, nous allons commencer par écrire notre première fonction Numba et la compiler pour le **CPU**. Cela nous permettra de nous familiariser avec la syntaxe de Numba et, un peu plus tard, de comparer les performances entre un code optimisé pour le CPU et un code accéléré sur GPU.\n",
    "\n",
    "Le compilateur Numba s'active généralement en appliquant un [**décorateur de fonction**](https://en.wikipedia.org/wiki/Python_syntax_and_semantics#Decorators) à une fonction Python. Les décorateurs sont des modificateurs de fonction qui transforment les fonctions Python qu’ils décorent, en utilisant une syntaxe très simple. \n",
    "\n",
    "\n",
    "\n",
    "<div style=\"background-color: #e6f7ff; border-radius:8px; padding:15px; border-left:6px solid #1e90ff; color:black; font-family:Arial, sans-serif;\">\n",
    "\n",
    "🔍 Ici, nous allons utiliser le décorateur de compilation CPU de Numba : **`@jit`**.\n",
    "\n",
    "\n"
   ]
  },
  {
   "cell_type": "code",
   "execution_count": null,
   "metadata": {
    "collapsed": true
   },
   "outputs": [],
   "source": [
    "from numba import jit\n",
    "import math\n",
    "\n",
    "# This is the function decorator syntax and is equivalent to `hypot = jit(hypot)`.\n",
    "# The Numba compiler is just a function you can call whenever you want!\n",
    "@jit\n",
    "def hypot(x, y):\n",
    "    # Implementation from https://en.wikipedia.org/wiki/Hypot\n",
    "    x = abs(x);\n",
    "    y = abs(y);\n",
    "    t = min(x, y);\n",
    "    x = max(x, y);\n",
    "    t = t / x;\n",
    "    return x * math.sqrt(1+t*t)\n",
    "\n",
    "hypot(3.0, 4.0)"
   ]
  },
  {
   "cell_type": "markdown",
   "metadata": {},
   "source": [
    "<div style=\"background-color:#eaf6fb; border-radius:8px; padding:20px; border-left:6px solid #4682b4; color:black; font-family:Arial, sans-serif;\">\n",
    "\n",
    "\n",
    "\n",
    "\n",
    "<div style=\"background-color: #e6f7ff; border-radius:8px; padding:15px; border-left:6px solid #1e90ff; color:black; font-family:Arial, sans-serif;\">\n",
    "\n",
    "### 🔍 Détails sur l'exécution de `hypot` avec Numba\n",
    "\n",
    "Nous allons explorer plus en détail ce qui se passe lorsqu'on appelle `hypot`, mais pour l'instant, retenez que **lors du premier appel à `hypot`**, le compilateur Numba est déclenché et **génère une version optimisée en code machine** pour les entrées de type `float`.\n",
    "\n",
    "Numba conserve également l'implémentation Python originale de la fonction dans l'attribut `.py_func`, ce qui nous permet d'appeler la version Python d'origine afin de vérifier que nous obtenons le même résultat :"
   ]
  },
  {
   "cell_type": "code",
   "execution_count": null,
   "metadata": {},
   "outputs": [],
   "source": [
    "hypot.py_func(3.0, 4.0)"
   ]
  },
  {
   "cell_type": "markdown",
   "metadata": {},
   "source": [
    "<div style=\"background-color:#eaf6fb; border-radius:8px; padding:20px; border-left:6px solid #4682b4; color:black; font-family:Arial, sans-serif;\">\n",
    "\n",
    "\n",
    "<div style=\"background-color: #e6f7ff; border-radius:8px; padding:15px; border-left:6px solid #1e90ff; color:black; font-family:Arial, sans-serif;\">\n",
    "\n",
    "### ⏱️ Évaluation des performances\n",
    "\n",
    "Une partie essentielle de l'utilisation de Numba est la **mesure des performances** de votre nouveau code. Voyons si nous avons réellement accéléré l'exécution.\n",
    "\n",
    "La manière la plus simple de mesurer les performances dans un **notebook Jupyter**, comme celui utilisé dans cette session, est d'utiliser la fonction  [`%timeit`](https://ipython.readthedocs.io/en/stable/interactive/magics.html#magic-timeit). \n",
    "\n",
    "Commençons par mesurer la vitesse de la version originale en Python :\n",
    "</div></div>"
   ]
  },
  {
   "cell_type": "code",
   "execution_count": null,
   "metadata": {},
   "outputs": [],
   "source": [
    "%timeit hypot.py_func(3.0, 4.0)"
   ]
  },
  {
   "cell_type": "markdown",
   "metadata": {},
   "source": [
    "<div style=\"background-color:#eaf6fb; border-radius:8px; padding:20px; border-left:6px solid #4682b4; color:black; font-family:Arial, sans-serif;\">\n",
    "\n",
    "\n",
    "\n",
    "\n",
    "<div style=\"background-color: #e6f7ff; border-radius:8px; padding:15px; border-left:6px solid #1e90ff; color:black; font-family:Arial, sans-serif;\">\n",
    "\n",
    "La fonction  `%timeit` exécute l'instruction plusieurs fois afin d'obtenir une **estimation précise du temps d'exécution**.  \n",
    "\n",
    "Par défaut, `%timeit` retourne **le meilleur temps mesuré**, ce qui permet de réduire l'impact d'éventuels événements aléatoires en arrière-plan sur les mesures.  \n",
    "\n",
    "De plus, la **meilleure exécution sur 3 essais** garantit que le temps de compilation lors du premier appel n'influence pas les résultats finaux.\n",
    "\n",
    "</div></div>"
   ]
  },
  {
   "cell_type": "code",
   "execution_count": null,
   "metadata": {},
   "outputs": [],
   "source": [
    "%timeit hypot(3.0, 4.0)"
   ]
  },
  {
   "cell_type": "markdown",
   "metadata": {},
   "source": [
    "<div style=\"background-color:#eaf6fb; border-radius:8px; padding:20px; border-left:6px solid #4682b4; color:black; font-family:Arial, sans-serif;\">\n",
    "\n",
    "<div style=\"background-color: #e6f7ff; border-radius:8px; padding:15px; border-left:6px solid #1e90ff; color:black; font-family:Arial, sans-serif;\">\n",
    "\n",
    "Numba a fait du bon travail avec cette fonction. Elle est **clairement plus rapide** que la version purement Python.  \n",
    "\n",
    "Cependant, la fonction `hypot` existe déjà dans le module standard de Python. Voyons comment elle se compare en termes de performance :\n",
    "</div></div>"
   ]
  },
  {
   "cell_type": "code",
   "execution_count": null,
   "metadata": {},
   "outputs": [],
   "source": [
    "%timeit math.hypot(3.0, 4.0)"
   ]
  },
  {
   "cell_type": "markdown",
   "metadata": {},
   "source": [
    "<div style=\"background-color:#eaf6fb; border-radius:8px; padding:20px; border-left:6px solid #4682b4; color:black; font-family:Arial, sans-serif;\">\n",
    "\n",
    "<div style=\"background-color: #e6f7ff; border-radius:8px; padding:15px; border-left:6px solid #1e90ff; color:black; font-family:Arial, sans-serif;\">\n",
    "\n",
    "La fonction intégrée de Python est **encore plus rapide** que celle optimisée avec Numba !  \n",
    "\n",
    "Cela s'explique par le fait que Numba introduit un **léger surcoût à chaque appel de fonction**, ce qui peut être plus important que celui de Python lui-même. Les **fonctions extrêmement rapides** (comme celle-ci) peuvent être **pénalisées** par cet overhead.  \n",
    "\n",
    "🔹 **Remarque importante** : Si une fonction Numba appelle une autre fonction Numba, le surcoût est **très faible**, voire **nul** si le compilateur décide d'**inliner** la fonction dans l'autre.  \n",
    "\n",
    "📌 **Conclusion** : **Toujours mesurer les performances** de vos fonctions pour **vérifier le gain réel** en vitesse !\n",
    "</div>\n",
    "\n",
    "<div style=\"background-color:#fae1e1; border-radius:8px; padding:15px; border-left:6px solid#bf2929; color:black; font-family:Arial, sans-serif;\">\n",
    "\n",
    "### **🏋️‍♂️  Consigne  : Compiler une fonction pour le CPU avec Numba**\n",
    "\n",
    "La fonction ci-dessous utilise la **[Méthode de Monte-Carlo pour estimer Pi](https://academo.org/demos/estimating-pi-monte-carlo/)** (extrait de la [page officielle de Numba](http://numba.pydata.org/)).  \n",
    "\n",
    "📌 La fonction est **déjà fonctionnelle**, donc inutile de se soucier des détails mathématiques.\n",
    "\n",
    "🔹 **Votre tâche** : Complétez les deux sections marquées `TODO` afin de **compiler `monte_carlo_pi` avec Numba** avant d'exécuter les cellules suivantes.\n",
    "\n",
    "Les cellules suivantes permettront de :\n",
    "\n",
    "1️⃣ **Vérifier que la version compilée donne le même résultat** que la version Python d'origine.  \n",
    "2️⃣ **Mesurer les performances de la version non compilée**.  \n",
    "3️⃣ **Mesurer les performances de la version compilée avec Numba**.  \n",
    "\n",
    "\n",
    "</div></div>\n",
    "\n",
    "\n"
   ]
  },
  {
   "cell_type": "code",
   "execution_count": 6,
   "metadata": {
    "collapsed": true
   },
   "outputs": [],
   "source": [
    "nsamples = 1000000"
   ]
  },
  {
   "cell_type": "code",
   "execution_count": 7,
   "metadata": {
    "collapsed": true
   },
   "outputs": [],
   "source": [
    "# TODO: Import Numba's just-in-time compiler function\n",
    "import random\n",
    "\n",
    "# TODO: Use the Numba compiler to compile this function\n",
    "\n",
    "def monte_carlo_pi(nsamples):\n",
    "    acc = 0\n",
    "    for i in range(nsamples):\n",
    "        x = random.random()\n",
    "        y = random.random()\n",
    "        if (x**2 + y**2) < 1.0:\n",
    "            acc += 1\n",
    "    return 4.0 * acc / nsamples"
   ]
  },
  {
   "cell_type": "code",
   "execution_count": null,
   "metadata": {},
   "outputs": [],
   "source": [
    "# We will use numpy's `testing` library to confirm compiled and uncompiled versions run the same\n",
    "from numpy import testing\n",
    "\n",
    "# This assertion will fail until you successfully complete the exercise one cell above\n",
    "testing.assert_almost_equal(monte_carlo_pi(nsamples), monte_carlo_pi.py_func(nsamples), decimal=2)"
   ]
  },
  {
   "cell_type": "code",
   "execution_count": null,
   "metadata": {},
   "outputs": [],
   "source": [
    "%timeit monte_carlo_pi(nsamples)"
   ]
  },
  {
   "cell_type": "code",
   "execution_count": null,
   "metadata": {},
   "outputs": [],
   "source": [
    "%timeit monte_carlo_pi.py_func(nsamples)"
   ]
  },
  {
   "cell_type": "markdown",
   "metadata": {},
   "source": [
    "<div style=\"background-color:#eaf6fb; border-radius:8px; padding:20px; border-left:6px solid #4682b4; color:black; font-family:Arial, sans-serif;\">\n",
    "\n",
    "\n",
    "<div style=\"background-color: #e6f7ff; border-radius:8px; padding:15px; border-left:6px solid #1e90ff; color:black; font-family:Arial, sans-serif;\">\n",
    "\n",
    "### ⚙️ Comment fonctionne Numba ?\n",
    "\n",
    "Lorsque nous avons appelé notre fonction `hypot` décorée avec Numba pour la première fois, le processus suivant a été initié. L'image ci-dessous illustre le processus de compilation déclenché par Numba lorsque vous utilisez un décorateur comme `@jit` :\n",
    "\n",
    "\n",
    "![Numba Flowchart](./numba_flowchart.png \"The compilation process\")\n",
    "\n",
    "\n",
    " **🛠️ Le processus de compilation avec Numba**\n",
    "\n",
    "\n",
    "1. **Python Function** : La fonction Python est définie normalement.\n",
    "2. **Bytecode Analysis** : Le code bytecode Python est analysé pour en extraire la logique.\n",
    "3. **Numba IR (Intermediate Representation)** : Une représentation intermédiaire spécifique à Numba est générée.\n",
    "4. **Type Inference** : Les types des arguments de la fonction sont inférés lors de l'appel pour générer du code spécialisé.\n",
    "5. **Rewrite IR** : Le code intermédiaire est réécrit et optimisé.\n",
    "6. **Lowering** : La représentation intermédiaire est traduite en instructions de bas niveau (LLVM IR).\n",
    "7. **LLVM/NVVM JIT** : Le code est compilé Just-In-Time par LLVM (ou NVVM pour CUDA).\n",
    "8. **Machine Code** : Le code machine est généré et peut être exécuté directement.\n",
    "9. **Cache** : Le code compilé est mis en cache pour les appels futurs.\n",
    "10. **Execute!** : La fonction compilée est exécutée.\n",
    "\n",
    "Numba permet ainsi de transformer une fonction Python ordinaire en une version optimisée, capable de s'exécuter sur CPU ou GPU avec des performances bien meilleures.\n",
    "\n",
    "Nous pouvons observer le **résultat de l'inférence de types** en utilisant la méthode `.inspect_types()`, qui affiche une version annotée du code source.\n",
    "\n",
    "</div></div>"
   ]
  },
  {
   "cell_type": "code",
   "execution_count": null,
   "metadata": {
    "scrolled": true
   },
   "outputs": [],
   "source": [
    "hypot.inspect_types()"
   ]
  },
  {
   "cell_type": "markdown",
   "metadata": {},
   "source": [
    "<div style=\"background-color:#eaf6fb; border-radius:8px; padding:20px; border-left:6px solid #4682b4; color:black; font-family:Arial, sans-serif;\">\n",
    "\n",
    "\n",
    "<div style=\"background-color: #e6f7ff; border-radius:8px; padding:15px; border-left:6px solid #1e90ff; color:black; font-family:Arial, sans-serif;\">\n",
    "\n",
    "### 📝 Remarque sur les types de données dans Numba\n",
    "\n",
    "Les noms des types dans Numba reflètent généralement ceux de **[NumPy](https://docs.scipy.org/doc/numpy-1.13.0/user/basics.types.html)**. Par exemple :\n",
    "\n",
    "- Un `float` en Python correspond à un `float64`.\n",
    "  \n",
    "### ⚠️ Importance des types de données en code GPU\n",
    "Dans le code GPU, il peut être important de prêter attention aux types de données car les performances des calculs en `float32` et `float64` peuvent varier **considérablement** selon le GPU.\n",
    "\n",
    "- Si votre algorithme peut produire des résultats corrects avec des `float32`, il est **recommandé d'utiliser ce type de données**, car :\n",
    "  - Le passage à `float64` peut entraîner une **diminution importante des performances**.\n",
    "  - Certains GPU CUDA sont optimisés pour les calculs en `float32`, rendant ces derniers beaucoup plus rapides.\n",
    "\n",
    "### 🚀 Bonne pratique :\n",
    "**Privilégiez `float32` si possible** pour maximiser les performances tout en garantissant la précision nécessaire à vos calculs.\n",
    "\n",
    "</div></div>"
   ]
  },
  {
   "cell_type": "markdown",
   "metadata": {},
   "source": [
    "<div style=\"background-color:#eaf6fb; border-radius:8px; padding:20px; border-left:6px solid #4682b4; color:black; font-family:Arial, sans-serif;\">\n",
    "\n",
    "\n",
    "<div style=\"background-color: #e6f7ff; border-radius:8px; padding:15px; border-left:6px solid #1e90ff; color:black; font-family:Arial, sans-serif;\">\n",
    "\n",
    "\n",
    "### 🚦 Modes Object et nopython\n",
    "\n",
    "Numba ne peut pas compiler tout le code Python. Certaines fonctions n'ont pas encore d'équivalent traduit par Numba, et certains types Python ne peuvent pas être compilés efficacement (du moins pour l'instant).  Par exemple, **Numba ne prend pas en charge les dictionnaires** (à la date de rédaction de ce document).  \n",
    "\n",
    "Essayons de compiler ce morceau de code Python avec Numba :\n",
    "</div></div>\n"
   ]
  },
  {
   "cell_type": "code",
   "execution_count": null,
   "metadata": {},
   "outputs": [],
   "source": [
    "@jit\n",
    "def cannot_compile(x):\n",
    "    return x['key']\n",
    "\n",
    "cannot_compile(dict(key='value'))"
   ]
  },
  {
   "cell_type": "markdown",
   "metadata": {},
   "source": [
    "<div style=\"background-color:#eaf6fb; border-radius:8px; padding:20px; border-left:6px solid #4682b4; color:black; font-family:Arial, sans-serif;\">\n",
    "\n",
    "\n",
    "<div style=\"background-color: #e6f7ff; border-radius:8px; padding:15px; border-left:6px solid #1e90ff; color:black; font-family:Arial, sans-serif;\">\n",
    "\n",
    "Étant donné ce qui a été dit, vous pourriez être surpris que la cellule précédente se soit exécutée sans aucun problème. Cela s'explique par le fait qu'en l'absence de type-spécialisation, **Numba bascule par défaut dans un mode appelé \"object mode\"**.  \n",
    "\n",
    "Dans ce mode, aucune optimisation via type-spécialisation n'est effectuée. Bien que ce mode existe pour permettre d'autres fonctionnalités de Numba, il est souvent préférable que Numba vous signale une erreur si l'inférence de types échoue.\n",
    "\n",
    "### 🔹 Forcer le mode `nopython`\n",
    "Pour obliger Numba à échouer lorsque l'inférence de types ne fonctionne pas, vous pouvez activer explicitement le **mode \"nopython\"** en passant l'argument `nopython=True` au décorateur :\n",
    "\n",
    "```python\n",
    "@jit(nopython=True)\n",
    "def my_function(...):\n",
    "    ...\n",
    "```\n",
    "Le mode nopython garantit que votre code est entièrement optimisé et ne tombe pas en mode interprété.\n",
    "\n",
    "\n",
    "</div></div>\n"
   ]
  },
  {
   "cell_type": "code",
   "execution_count": null,
   "metadata": {},
   "outputs": [],
   "source": [
    "@jit(nopython=True)\n",
    "def cannot_compile(x):\n",
    "    return x['key']\n",
    "\n",
    "cannot_compile(dict(key='value'))"
   ]
  },
  {
   "cell_type": "markdown",
   "metadata": {},
   "source": [
    "<div style=\"background-color:#eaf6fb; border-radius:8px; padding:20px; border-left:6px solid #4682b4; color:black; font-family:Arial, sans-serif;\">\n",
    "\n",
    "\n",
    "<div style=\"background-color: #e6f7ff; border-radius:8px; padding:15px; border-left:6px solid #1e90ff; color:black; font-family:Arial, sans-serif;\">\n",
    "\n",
    "Maintenant, une exception est levée lorsque Numba essaie de compiler la fonction. Si vous faites défiler jusqu'à la fin du message d'erreur, vous verrez une description du problème sous-jacent :\n",
    "    \n",
    "    • argument 0: cannot determine Numba type of <class ‘dict’>\n",
    "\n",
    "### 🔹 Mode `nopython` : Bonne pratique recommandée\n",
    "L'utilisation du mode **`nopython`** est la **meilleure pratique recommandée** pour utiliser le décorateur `jit`, car elle garantit les meilleures performances en éliminant le mode interprété.\n",
    "\n",
    "### 🔹 Simplification avec `njit`\n",
    "Numba propose un autre décorateur, **`njit`**, qui est un alias pour **`jit(nopython=True)`**. Cela rend le code plus concis et garantit que Numba fonctionne toujours en mode `nopython` :\n",
    "\n",
    "```python\n",
    "from numba import njit\n",
    "\n",
    "@njit\n",
    "def my_function(...):\n",
    "    ...\n",
    "```\n",
    "Utiliser `njit` est le moyen le plus simple d’assurer des performances optimales avec Numba.\n",
    "\n",
    "### 💡 Ressource :\n",
    "\n",
    "Pour une liste exhaustive des fonctionnalités Python prises en charge par Numba, veuillez consulter **[la documentation officielle de Numba](https://numba.pydata.org/numba-doc/dev/reference/pysupported.html)**.\n",
    "\n",
    "</div></div>\n"
   ]
  },
  {
   "cell_type": "code",
   "execution_count": null,
   "metadata": {
    "collapsed": true
   },
   "outputs": [],
   "source": [
    "from numba import njit\n",
    "\n",
    "@njit\n",
    "def cannot_compile(x):\n",
    "    return x['key']\n",
    "\n",
    "cannot_compile(dict(key='value'))"
   ]
  },
  {
   "cell_type": "markdown",
   "metadata": {},
   "source": [
    "<div style=\"background-color:#eaf6fb; border-radius:8px; padding:20px; border-left:6px solid #4682b4; color:black; font-family:Arial, sans-serif;\">\n",
    "\n",
    "# <div style=\"text-align:center; border-radius:8px; padding:8px; color:white; margin:10px 0; font-size:100%; font-family:Arial, sans-serif; background-color:#4682b4;\"><b>🔍 2. 🚀 Numba pour le GPU avec les fonctions universelles (ufuncs) de NumPy </b></div>\n",
    "\n",
    "\n",
    "Nous allons commencer notre exploration de la programmation GPU avec Numba en apprenant à compiler les **[fonctions universelles de NumPy (ou ufuncs)](https://docs.scipy.org/doc/numpy-1.15.1/reference/ufuncs.html)** pour le GPU.\n",
    "\n",
    "\n",
    "La chose la plus importante à comprendre à propos de la programmation GPU, au début, est que le matériel GPU est conçu pour le **parallélisme des données**. Le débit maximal est atteint lorsque le GPU effectue les **mêmes opérations sur de nombreux éléments simultanément**.\n",
    "\n",
    "Les fonctions universelles de NumPy (ufuncs), qui appliquent la même opération à chaque élément d’un tableau NumPy, sont **naturellement parallèles**, ce qui en fait un excellent choix pour la programmation GPU.\n",
    "\n",
    "\n"
   ]
  },
  {
   "cell_type": "markdown",
   "metadata": {},
   "source": [
    "<div style=\"background-color:#eaf6fb; border-radius:8px; padding:20px; border-left:6px solid #4682b4; color:black; font-family:Arial, sans-serif;\">\n",
    "\n",
    "\n",
    "<div style=\"background-color: #e6f7ff; border-radius:8px; padding:15px; border-left:6px solid #1e90ff; color:black; font-family:Arial, sans-serif;\">\n",
    "\n",
    "\n",
    "### 🔍 Rappel sur les fonctions universelles (ufuncs) de NumPy\n",
    "\n",
    "\n",
    "Si, après cette introduction, vous ne vous sentez pas à l’aise avec les mécanismes de base de NumPy pour la **création de tableaux et l’utilisation des ufuncs**, il est recommandé de suivre le **[tutoriel rapide sur NumPy](https://docs.scipy.org/doc/numpy/user/quickstart.html)**.\n",
    "\n",
    "### 📌 Qu'est-ce qu'une ufunc ?\n",
    "NumPy introduit le concept de **fonctions universelles (\"ufuncs\")**, qui sont des fonctions capables de :\n",
    "- Manipuler des tableaux NumPy de différentes dimensions.\n",
    "- Effectuer des opérations **élément par élément** sur les données.\n",
    "- Accepter aussi bien des **scalaires** que des **tableaux**.\n",
    "\n",
    "\n",
    "Pour illustrer le fonctionnement de base des ufuncs, nous allons utiliser la fonction universelle `add` de NumPy :\n",
    "\n",
    "\n",
    "</div></div>\n"
   ]
  },
  {
   "cell_type": "code",
   "execution_count": null,
   "metadata": {},
   "outputs": [],
   "source": [
    "import numpy as np\n",
    "\n",
    "a = np.array([1, 2, 3, 4])\n",
    "b = np.array([10, 20, 30, 40])\n",
    "\n",
    "np.add(a, b) # Returns a new NumPy array resulting from adding every element in `a` to every element in `b`"
   ]
  },
  {
   "cell_type": "markdown",
   "metadata": {},
   "source": [
    "<div style=\"background-color:#eaf6fb; border-radius:8px; padding:20px; border-left:6px solid #4682b4; color:black; font-family:Arial, sans-serif;\">\n",
    "\n",
    "\n",
    "<div style=\"background-color: #e6f7ff; border-radius:8px; padding:15px; border-left:6px solid #1e90ff; color:black; font-family:Arial, sans-serif;\">\n",
    "\n",
    "\n",
    "Les **ufuncs** peuvent également combiner des **scalaires** avec des **tableaux**.  \n",
    "\n",
    "\n",
    "</div></div>\n",
    "\n",
    "\n"
   ]
  },
  {
   "cell_type": "code",
   "execution_count": null,
   "metadata": {},
   "outputs": [],
   "source": [
    "np.add(a, 100) # Returns a new NumPy array resulting from adding 100 to every element in `a`"
   ]
  },
  {
   "cell_type": "markdown",
   "metadata": {},
   "source": [
    "<div style=\"background-color:#eaf6fb; border-radius:8px; padding:20px; border-left:6px solid #4682b4; color:black; font-family:Arial, sans-serif;\">\n",
    "\n",
    "\n",
    "<div style=\"background-color: #e6f7ff; border-radius:8px; padding:15px; border-left:6px solid #1e90ff; color:black; font-family:Arial, sans-serif;\">\n",
    "\n",
    "### 📌 Diffusion automatique des dimensions (*Broadcasting*)\n",
    "\n",
    "Les tableaux de **dimensions différentes mais compatibles** peuvent être combinés grâce à une technique appelée **[*broadcasting*](https://docs.scipy.org/doc/numpy-1.15.0/user/basics.broadcasting.html)**.  \n",
    "\n",
    "Dans ce processus, le tableau ayant la **plus petite dimension** est **répliqué automatiquement** pour correspondre à la dimension du tableau le plus grand, permettant ainsi d'effectuer des opérations sans boucle explicite.\n",
    "\n",
    "\n",
    "\n",
    "### 📚 Ressources utiles :\n",
    "\n",
    "Ces fonctions NumPy seront utilisées plusieurs fois au cours de cette formation :\n",
    "\n",
    "- [`numpy.arange`](https://docs.scipy.org/doc/numpy-1.15.0/reference/generated/numpy.arange.html) : Génère des séquences numériques.\n",
    "- [`numpy.ndarray.reshape`](https://docs.scipy.org/doc/numpy-1.15.0/reference/generated/numpy.ndarray.reshape.html) : Reformatage de tableaux NumPy.\n",
    "\n",
    "\n",
    "Le broadcasting est une technique essentielle pour optimiser les calculs et améliorer les performances des opérations vectorisées, notamment sur GPU avec Numba. 🚀\n",
    "\n",
    "\n",
    "\n",
    "\n",
    "\n",
    "</div></div>\n",
    "\n",
    "\n"
   ]
  },
  {
   "cell_type": "code",
   "execution_count": null,
   "metadata": {
    "collapsed": true
   },
   "outputs": [],
   "source": [
    "c = np.arange(4*4).reshape((4,4))\n",
    "print('c:', c)\n",
    "\n",
    "np.add(b, c)"
   ]
  },
  {
   "cell_type": "markdown",
   "metadata": {},
   "source": [
    "<div style=\"background-color:#eaf6fb; border-radius:8px; padding:20px; border-left:6px solid #4682b4; color:black; font-family:Arial, sans-serif;\">\n",
    "\n",
    "\n",
    "<div style=\"background-color: #e6f7ff; border-radius:8px; padding:15px; border-left:6px solid #1e90ff; color:black; font-family:Arial, sans-serif;\">\n",
    "\n",
    "### 🚀 Création de ufuncs pour le GPU\n",
    "\n",
    "Numba permet de créer des **ufuncs compilées**, un processus qui, sans Numba, nécessite généralement d'écrire du code en C.  \n",
    "\n",
    "Avec Numba, il suffit :\n",
    "1. D'implémenter une **fonction scalaire** qui sera appliquée à chaque élément des entrées.\n",
    "2. De la décorer avec `@vectorize`.\n",
    "\n",
    "Numba s’occupe ensuite de **gérer automatiquement les règles de diffusion (*broadcasting*)**.\n",
    "\n",
    "Si vous êtes familier avec [`numpy.vectorize`](https://docs.scipy.org/doc/numpy-1.15.0/reference/generated/numpy.vectorize.html), le décorateur `vectorize` de Numba vous semblera très similaire, mais avec **une accélération notable grâce à la compilation JIT**. \n",
    "\n",
    "\n",
    "Dans ce premier exemple, nous allons utiliser le décorateur `@vectorize` pour **compiler et optimiser une ufunc pour le CPU**. 🚀\n",
    "</div></div>\n",
    "\n",
    "\n",
    "\n",
    "\n"
   ]
  },
  {
   "cell_type": "code",
   "execution_count": null,
   "metadata": {
    "collapsed": true
   },
   "outputs": [],
   "source": [
    "from numba import vectorize\n",
    "\n",
    "@vectorize\n",
    "def add_ten(num):\n",
    "    return num + 10 # This scalar operation will be performed on each element"
   ]
  },
  {
   "cell_type": "code",
   "execution_count": null,
   "metadata": {
    "collapsed": true
   },
   "outputs": [],
   "source": [
    "nums = np.arange(10)\n",
    "add_ten(nums) # pass the whole array into the ufunc, it performs the operation on each element"
   ]
  },
  {
   "cell_type": "markdown",
   "metadata": {},
   "source": [
    "<div style=\"background-color:#eaf6fb; border-radius:8px; padding:20px; border-left:6px solid #4682b4; color:black; font-family:Arial, sans-serif;\">\n",
    "\n",
    "\n",
    "<div style=\"background-color: #e6f7ff; border-radius:8px; padding:15px; border-left:6px solid #1e90ff; color:black; font-family:Arial, sans-serif;\">\n",
    "\n",
    "Nous allons générer une **ufunc optimisée pour le GPU avec CUDA** en utilisant une **signature de type explicite** et en définissant l’attribut `target`.  \n",
    "\n",
    "### 📌 Définition de la signature de type :\n",
    "L’argument de signature de type indique **les types de données utilisés** pour les arguments et la valeur de retour de la ufunc, sous la forme suivante :\n",
    "```python\n",
    "'return_value_type(argument1_value_type, argument2_value_type, ...)'\n",
    "```\n",
    "\n",
    "Pour plus d’informations, consultez la documentation Numba :\n",
    "\n",
    "- 🔗 [Types disponibles](https://numba.pydata.org/numba-doc/dev/reference/types.html)\n",
    "- 🔗 [Écriture de ufuncs avec plusieurs signatures](https://numba.pydata.org/numba-doc/dev/user/vectorize.html)\n",
    "\n",
    "### ✨ Exemple : Compilation d’une ufunc pour le GPU avec CUDA\n",
    "\n",
    "L’exemple ci-dessous montre une ufunc qui sera compilée pour un périphérique GPU compatible CUDA. Elle prend en entrée deux valeurs int64 et retourne également un int64 :\n",
    "</div></div>"
   ]
  },
  {
   "cell_type": "code",
   "execution_count": null,
   "metadata": {
    "collapsed": true
   },
   "outputs": [],
   "source": [
    "@vectorize(['int64(int64, int64)'], target='cuda') # Type signature and target are required for the GPU\n",
    "def add_ufunc(x, y):\n",
    "    return x + y"
   ]
  },
  {
   "cell_type": "markdown",
   "metadata": {},
   "source": [
    "<div style=\"background-color:#eaf6fb; border-radius:8px; padding:20px; border-left:6px solid #4682b4; color:black; font-family:Arial, sans-serif;\">\n",
    "\n",
    "\n",
    "<div style=\"background-color: #e6f7ff; border-radius:8px; padding:15px; border-left:6px solid #1e90ff; color:black; font-family:Arial, sans-serif;\">\n",
    "\n",
    "### 🔍 Explication de l'exemple :\n",
    "\n",
    "- La fonction `add_ufunc` est **vectorisée** pour une **exécution parallèle sur GPU**.\n",
    "- La signature **`int64(int64, int64)`** spécifie que les **entrées et la sortie** sont de type `int64`.\n",
    "- L’attribut **`target='cuda'`** indique que la fonction doit être **compilée pour CUDA** et exécutée sur un **GPU**.\n",
    "Avec cette approche, Numba génère automatiquement du code optimisé pour le GPU, sans nécessiter d’écriture en CUDA natif !\n",
    "</div></div>\n",
    "\n",
    "\n"
   ]
  },
  {
   "cell_type": "code",
   "execution_count": null,
   "metadata": {
    "collapsed": true
   },
   "outputs": [],
   "source": [
    "add_ufunc(a, b)"
   ]
  },
  {
   "cell_type": "markdown",
   "metadata": {},
   "source": [
    "<div style=\"background-color:#eaf6fb; border-radius:8px; padding:20px; border-left:6px solid #4682b4; color:black; font-family:Arial, sans-serif;\">\n",
    "\n",
    "\n",
    "<div style=\"background-color: #e6f7ff; border-radius:8px; padding:15px; border-left:6px solid #1e90ff; color:black; font-family:Arial, sans-serif;\">\n",
    "\n",
    "Pour un simple appel de fonction, **beaucoup de choses viennent de se produire !** 🚀  \n",
    "\n",
    "Numba a automatiquement réalisé les étapes suivantes :  \n",
    "\n",
    "- 🛠 **Compilation d’un noyau CUDA** pour exécuter l’opération ufunc en parallèle sur tous les éléments d'entrée.  \n",
    "- 📦 **Allocation de mémoire sur le GPU** pour les entrées et la sortie.  \n",
    "- ⬆️ **Copie des données d’entrée vers le GPU**.  \n",
    "- ⚡ **Exécution du noyau CUDA** avec les dimensions adaptées aux tailles des entrées.  \n",
    "- ⬇️ **Copie du résultat du GPU vers le CPU**.  \n",
    "- 📤 **Renvoi du résultat sous forme d’un tableau NumPy sur l’hôte (CPU).**  \n",
    "\n",
    "Par rapport à une implémentation en **C/CUDA natif**, cette approche est **beaucoup plus concise** et évite la gestion manuelle des ressources GPU.  \n",
    "\n",
    "#### 🚀 Quelle est la vitesse de notre simple exemple sur GPU ? Voyons cela ! ⏱\n",
    "\n",
    "</div></div>"
   ]
  },
  {
   "cell_type": "code",
   "execution_count": null,
   "metadata": {
    "collapsed": true
   },
   "outputs": [],
   "source": [
    "%timeit np.add(b, c)   # NumPy on CPU"
   ]
  },
  {
   "cell_type": "code",
   "execution_count": null,
   "metadata": {
    "collapsed": true
   },
   "outputs": [],
   "source": [
    "%timeit add_ufunc(b, c) # Numba on GPU"
   ]
  },
  {
   "cell_type": "markdown",
   "metadata": {},
   "source": [
    "<div style=\"background-color:#eaf6fb; border-radius:8px; padding:20px; border-left:6px solid #4682b4; color:black; font-family:Arial, sans-serif;\">\n",
    "\n",
    "\n",
    "<div style=\"background-color: #e6f7ff; border-radius:8px; padding:15px; border-left:6px solid #1e90ff; color:black; font-family:Arial, sans-serif;\">\n",
    "\n",
    "### 🚀 Pourquoi notre exemple est-il plus lent sur le GPU ? \n",
    "\n",
    "😲 **Le GPU est beaucoup plus lent que le CPU ??**  \n",
    "\n",
    "C’est un comportement **prévisible** car nous avons **délibérément** mal utilisé le GPU dans cet exemple.  \n",
    "\n",
    "Comprendre **pourquoi** le GPU est mal exploité ici nous aidera à identifier **quels types de problèmes sont adaptés au calcul GPU** et **quels calculs restent plus efficaces sur le CPU**.\n",
    "\n",
    "---\n",
    "\n",
    "#### ❌ **Mauvaises pratiques dans notre exemple :**\n",
    "\n",
    "1️⃣ **Nos entrées sont trop petites**  \n",
    "   - Le GPU excelle en exécutant **des milliers de calculs en parallèle**.  \n",
    "   - Ici, nos tableaux contiennent **seulement 4 ou 16 entiers**, ce qui est **insuffisant pour saturer le GPU**.  \n",
    "\n",
    "2️⃣ **Notre calcul est trop simple**  \n",
    "   - L'envoi d'un calcul vers le GPU introduit un **coût fixe important**.  \n",
    "   - Si le calcul est trop rapide (faible **intensité arithmétique**), le **temps d’attente** pour les transferts de données **domine** le gain de parallélisation.  \n",
    "\n",
    "3️⃣ **Nous copions inutilement les données entre CPU et GPU**  \n",
    "   - Le transfert mémoire entre CPU et GPU est **coûteux**.  \n",
    "   - **Bonne pratique** : **Garder les données sur le GPU** et **enchaîner plusieurs opérations** avant de les récupérer.  \n",
    "\n",
    "4️⃣ **Nous utilisons des types de données trop volumineux**  \n",
    "   - L’exemple utilise **`int64`**, mais **un `int32` suffirait**.  \n",
    "   - Le coût en performance des types **`float64`** sur le GPU peut être **énorme** :\n",
    "     - **2× plus lent** (Tesla - Pascal)\n",
    "     - **Jusqu’à 24× plus lent** (GeForce - Maxwell)\n",
    "   - **Bonne pratique** : Utiliser **`float32`** si la précision est suffisante.  \n",
    "     - ⚠️ **NumPy utilise `float64` par défaut**, pensez à définir le [`dtype`](https://docs.scipy.org/doc/numpy-1.14.0/reference/arrays.dtypes.html) ou à utiliser [`ndarray.astype()`](https://docs.scipy.org/doc/numpy-1.15.0/reference/generated/numpy.ndarray.astype.html).\n",
    "\n",
    "---\n",
    "\n",
    "#### ✅ **Comment mieux exploiter le GPU ?**  \n",
    "Nous allons maintenant essayer un **exemple plus rapide sur le GPU** en appliquant ces **bonnes pratiques** :\n",
    "- Une **opération avec une plus grande intensité arithmétique** 🧮  \n",
    "- Une **taille d'entrée bien plus grande** 📊  \n",
    "- L'utilisation d'un **type de données `float32`** \n",
    "\n",
    "---\n",
    "\n",
    "#### ⚠️ **Attention : certaines opérations NumPy ne fonctionnent pas sur le GPU !**\n",
    "Dans l'exemple suivant, nous devrons **remplacer** les fonctions NumPy `pi` et `exp` par leurs équivalents du module **`math`**.  \n",
    "\n",
    "📌 Pour plus d’informations, consultez **[la documentation Numba](https://numba.pydata.org/numba-doc/latest/reference/numpysupported.html)** sur la prise en charge de NumPy sur GPU.\n",
    "\n",
    "</div></div>"
   ]
  },
  {
   "cell_type": "code",
   "execution_count": null,
   "metadata": {
    "collapsed": true
   },
   "outputs": [],
   "source": [
    "import math # Note that for the CUDA target, we need to use the scalar functions from the math module, not NumPy\n",
    "\n",
    "SQRT_2PI = np.float32((2*math.pi)**0.5)  # Precompute this constant as a float32.  Numba will inline it at compile time.\n",
    "\n",
    "@vectorize(['float32(float32, float32, float32)'], target='cuda')\n",
    "def gaussian_pdf(x, mean, sigma):\n",
    "    '''Compute the value of a Gaussian probability density function at x with given mean and sigma.'''\n",
    "    return math.exp(-0.5 * ((x - mean) / sigma)**2) / (sigma * SQRT_2PI)"
   ]
  },
  {
   "cell_type": "code",
   "execution_count": null,
   "metadata": {
    "collapsed": true
   },
   "outputs": [],
   "source": [
    "import numpy as np\n",
    "# Evaluate the Gaussian a million times!\n",
    "x = np.random.uniform(-3, 3, size=1000000).astype(np.float32)\n",
    "mean = np.float32(0.0)\n",
    "sigma = np.float32(1.0)\n",
    "\n",
    "# Quick test on a single element just to make sure it works\n",
    "gaussian_pdf(x[0], 0.0, 1.0)"
   ]
  },
  {
   "cell_type": "code",
   "execution_count": null,
   "metadata": {
    "collapsed": true
   },
   "outputs": [],
   "source": [
    "import scipy.stats # for definition of gaussian distribution, so we can compare CPU to GPU time\n",
    "norm_pdf = scipy.stats.norm\n",
    "%timeit norm_pdf.pdf(x, loc=mean, scale=sigma)"
   ]
  },
  {
   "cell_type": "code",
   "execution_count": null,
   "metadata": {
    "collapsed": true
   },
   "outputs": [],
   "source": [
    "%timeit gaussian_pdf(x, mean, sigma)"
   ]
  },
  {
   "cell_type": "markdown",
   "metadata": {},
   "source": [
    "<div style=\"background-color:#eaf6fb; border-radius:8px; padding:20px; border-left:6px solid #4682b4; color:black; font-family:Arial, sans-serif;\">\n",
    "<div style=\"background-color: #e6f7ff; border-radius:8px; padding:15px; border-left:6px solid #1e90ff; color:black; font-family:Arial, sans-serif;\">\n",
    "\n",
    "### 🚀 Un gain de performance significatif !\n",
    "\n",
    "Nous avons obtenu **une amélioration considérable**, **même en tenant compte du coût des transferts de données** entre le CPU et le GPU.  \n",
    "\n",
    "Les **ufuncs utilisant des fonctions spéciales** (`exp`, `sin`, `cos`, etc.) sur **de grands ensembles de données** sont particulièrement **efficaces sur GPU**, car ces opérations sont massivement parallélisées.\n",
    "\n",
    "---\n",
    "\n",
    "\n",
    "\n",
    "<div style=\"background-color:#fae1e1; border-radius:8px; padding:15px; border-left:6px solid#bf2929; color:black; font-family:Arial, sans-serif;\">\n",
    "\n",
    "### **🏋️‍♂️  Consigne  :  🕒 Comparons avec une optimisation CPU**\n",
    "\n",
    "\n",
    "Pour compléter notre comparaison, définissons et **mesurons le temps d'exécution** de la fonction `gaussian_pdf` lorsqu'elle est optimisée par **Numba pour le CPU**.  \n",
    "\n",
    "</div>\n",
    "</div>"
   ]
  },
  {
   "cell_type": "code",
   "execution_count": null,
   "metadata": {
    "collapsed": true
   },
   "outputs": [],
   "source": [
    "@vectorize\n",
    "def cpu_gaussian_pdf(x, mean, sigma):\n",
    "    '''Compute the value of a Gaussian probability density function at x with given mean and sigma.'''\n",
    "    return math.exp(-0.5 * ((x - mean) / sigma)**2) / (sigma * SQRT_2PI)"
   ]
  },
  {
   "cell_type": "code",
   "execution_count": null,
   "metadata": {
    "collapsed": true
   },
   "outputs": [],
   "source": [
    "%timeit cpu_gaussian_pdf(x, mean, sigma)"
   ]
  },
  {
   "cell_type": "markdown",
   "metadata": {},
   "source": [
    "<div style=\"background-color:#eaf6fb; border-radius:8px; padding:20px; border-left:6px solid #4682b4; color:black; font-family:Arial, sans-serif;\">\n",
    "<div style=\"background-color: #e6f7ff; border-radius:8px; padding:15px; border-left:6px solid #1e90ff; color:black; font-family:Arial, sans-serif;\">\n",
    "\n",
    "\n",
    "### ⚡ Comparaison des performances : CPU vs GPU\n",
    "\n",
    "L’optimisation de `gaussian_pdf` avec Numba pour le **CPU** est **beaucoup plus rapide** que la version Python non compilée. \n",
    "\n",
    "Cependant, elle reste **nettement plus lente** que l’exécution **accélérée sur GPU**, qui tire parti du calcul massivement parallèle pour traiter de **grands ensembles de données** de manière optimale.  \n",
    "\n",
    "</div></div>"
   ]
  },
  {
   "cell_type": "markdown",
   "metadata": {},
   "source": [
    "<div style=\"background-color:#eaf6fb; border-radius:8px; padding:20px; border-left:6px solid #4682b4; color:black; font-family:Arial, sans-serif;\">\n",
    "<div style=\"background-color: #e6f7ff; border-radius:8px; padding:15px; border-left:6px solid #1e90ff; color:black; font-family:Arial, sans-serif;\">\n",
    "\n",
    "### ⚙️ Fonctions de périphérique CUDA (*CUDA Device Functions*)\n",
    "\n",
    "Les **ufuncs** sont **très efficaces** lorsqu'il s'agit d'effectuer des **opérations élément par élément**, une tâche extrêmement courante.  \n",
    "\n",
    "Cependant, certains calculs **ne correspondent pas** à ce modèle vectorisé.  \n",
    "\n",
    "#### 🚀 Compiler des fonctions GPU non vectorisées\n",
    "Pour compiler des **fonctions non vectorisées** sur le **GPU**, nous utilisons `numba.cuda.jit`.  \n",
    "\n",
    "Dans la prochaine section, nous approfondirons l'utilisation de `numba.cuda.jit`, mais pour l’instant, voyons **comment l’utiliser pour décorer une fonction auxiliaire**, qui sera ensuite utilisée dans une ufunc accélérée sur GPU.  Cela permet d'**éviter de surcharger une seule ufunc** avec toute la logique de calcul.\n",
    "\n",
    "---\n",
    "\n",
    "#### 📌 Exemple : Fonction auxiliaire GPU avec `device=True`\n",
    "Dans l'exemple ci-dessous, la fonction `polar_to_cartesian` :\n",
    "- **Ne nécessite pas de signature de type** (contrairement aux ufuncs vectorisées).\n",
    "- **Prend deux valeurs scalaires** en entrée, contrairement aux **ufuncs vectorisées** qui manipulent des tableaux NumPy.\n",
    "- **Ne peut être appelée que depuis une fonction exécutée sur le GPU** grâce à `device=True`.\n",
    "\n",
    "📌 L’argument device=True indique que cette fonction ne peut être appelée que depuis un code exécuté sur le GPU, et non depuis le CPU.\n",
    "\n",
    "Cela permet une meilleure modularité en créant des fonctions réutilisables au sein de calculs plus complexes sur le GPU. 🚀\n",
    "\n",
    "\n",
    "\n",
    "</div></div>"
   ]
  },
  {
   "cell_type": "code",
   "execution_count": null,
   "metadata": {
    "collapsed": true
   },
   "outputs": [],
   "source": [
    "from numba import cuda\n",
    "\n",
    "@cuda.jit(device=True)\n",
    "def polar_to_cartesian(rho, theta):\n",
    "    x = rho * math.cos(theta)\n",
    "    y = rho * math.sin(theta)\n",
    "    return x, y\n",
    "\n",
    "@vectorize(['float32(float32, float32, float32, float32)'], target='cuda')\n",
    "def polar_distance(rho1, theta1, rho2, theta2):\n",
    "    x1, y1 = polar_to_cartesian(rho1, theta1) # We can use device functions inside our GPU ufuncs\n",
    "    x2, y2 = polar_to_cartesian(rho2, theta2)\n",
    "    \n",
    "    return ((x1 - x2)**2 + (y1 - y2)**2)**0.5"
   ]
  },
  {
   "cell_type": "code",
   "execution_count": null,
   "metadata": {
    "collapsed": true
   },
   "outputs": [],
   "source": [
    "n = 1000000\n",
    "rho1 = np.random.uniform(0.5, 1.5, size=n).astype(np.float32)\n",
    "theta1 = np.random.uniform(-np.pi, np.pi, size=n).astype(np.float32)\n",
    "rho2 = np.random.uniform(0.5, 1.5, size=n).astype(np.float32)\n",
    "theta2 = np.random.uniform(-np.pi, np.pi, size=n).astype(np.float32)"
   ]
  },
  {
   "cell_type": "code",
   "execution_count": null,
   "metadata": {
    "collapsed": true
   },
   "outputs": [],
   "source": [
    "polar_distance(rho1, theta1, rho2, theta2)"
   ]
  },
  {
   "cell_type": "markdown",
   "metadata": {},
   "source": [
    "<div style=\"background-color:#eaf6fb; border-radius:8px; padding:20px; border-left:6px solid #4682b4; color:black; font-family:Arial, sans-serif;\">\n",
    "<div style=\"background-color: #e6f7ff; border-radius:8px; padding:15px; border-left:6px solid #1e90ff; color:black; font-family:Arial, sans-serif;\">\n",
    "\n",
    "### 📌 **Remarque importante**\n",
    "Le **compilateur CUDA** applique une **inlining agressive** aux **fonctions de périphérique (`device=True`)**.  \n",
    "\n",
    "Cela signifie que :\n",
    "- Il n’y a **généralement aucun surcoût** pour les appels de fonction.\n",
    "- Les **tuples retournés** (comme dans `polar_to_cartesian`) **ne sont pas réellement créés** en tant qu'objets Python.  \n",
    "  - Ils sont temporairement représentés comme une **structure (`struct`)**.\n",
    "  - Cette structure est ensuite **optimisée et supprimée** par le compilateur.\n",
    "\n",
    "####  💡 **Conclusion** :\n",
    " L’utilisation de **fonctions auxiliaires sur GPU** avec `device=True` ne **ralentit pas** l’exécution et permet une meilleure **organisation du code** sans perte de performance. \n",
    "\n",
    "\n",
    "### ✅ Python autorisé sur le GPU\n",
    "\n",
    "L’exécution de Python sur GPU avec Numba est **plus limitée** que sur CPU.  \n",
    "Bien que Numba sur CPU soit déjà restreint, la version GPU impose **encore plus de contraintes**.  \n",
    "\n",
    "#### 🔹 Fonctions et structures Python prises en charge :\n",
    "- **Conditions** : `if` / `elif` / `else`\n",
    "- **Boucles** : `while` et `for`\n",
    "- **Opérateurs mathématiques de base**\n",
    "- **Certaines fonctions** des modules `math` et `cmath`\n",
    "- **Tuples**\n",
    "\n",
    "📌 Pour une liste détaillée des fonctionnalités prises en charge, consultez **[le manuel de Numba](http://numba.pydata.org/numba-doc/latest/cuda/cudapysupported.html)**. \n",
    "\n",
    "</div>\n",
    "</div>"
   ]
  },
  {
   "cell_type": "markdown",
   "metadata": {},
   "source": [
    "<div style=\"background-color:#eaf6fb; border-radius:8px; padding:20px; border-left:6px solid #4682b4; color:black; font-family:Arial, sans-serif;\">\n",
    "<div style=\"background-color: #e6f7ff; border-radius:8px; padding:15px; border-left:6px solid #1e90ff; color:black; font-family:Arial, sans-serif;\">\n",
    "\n",
    "### 🏋️‍♂️ Exercice : Accélérer une fonction sur GPU\n",
    "\n",
    "Nous allons accélérer sur **GPU** une fonction de **suppression des valeurs faibles (\"zero suppression\")**.  \n",
    "\n",
    "📌 **Contexte** :  \n",
    "Lors du traitement de **signaux** ou de **formes d'onde**, il est courant de **forcer à zéro** toutes les valeurs dont l'**amplitude absolue** est inférieure à un certain seuil.  \n",
    "Cela permet de **réduire le bruit de faible amplitude** dans les mesures.\n",
    "\n",
    "Voyons d'abord comment **générer des données d'exemple** pour tester notre fonction :\n",
    "\n",
    "</div>\n",
    "</div>"
   ]
  },
  {
   "cell_type": "code",
   "execution_count": null,
   "metadata": {
    "collapsed": true
   },
   "outputs": [],
   "source": [
    "# This allows us to plot right here in the notebook\n",
    "%matplotlib inline\n",
    "\n",
    "# Hacking up a noisy pulse train\n",
    "from matplotlib import pyplot as plt\n",
    "\n",
    "n = 100000\n",
    "noise = np.random.normal(size=n) * 3\n",
    "pulses = np.maximum(np.sin(np.arange(n) / (n / 23)) - 0.3, 0.0)\n",
    "waveform = ((pulses * 300) + noise).astype(np.int16)\n",
    "plt.plot(waveform)"
   ]
  },
  {
   "cell_type": "markdown",
   "metadata": {},
   "source": [
    "<div style=\"background-color:#eaf6fb; border-radius:8px; padding:20px; border-left:6px solid #4682b4; color:black; font-family:Arial, sans-serif;\">\n",
    "<div style=\"background-color: #e6f7ff; border-radius:8px; padding:15px; border-left:6px solid #1e90ff; color:black; font-family:Arial, sans-serif;\">\n",
    "\n",
    "### 🚀 Accélération GPU de `zero_suppress`\n",
    "\n",
    "Nous allons maintenant **décorer la fonction `zero_suppress`** pour qu'elle s'exécute comme une **ufunc vectorisée sur un périphérique CUDA**.\n",
    "\n",
    "<div style=\"background-color:#fae1e1; border-radius:8px; padding:15px; border-left:6px solid#bf2929; color:black; font-family:Arial, sans-serif;\">\n",
    "\n",
    "### **🏋️‍♂️  Consigne  :**\n",
    "\n",
    "- Transformer `zero_suppress` en une **ufunc compatible GPU**.\n",
    "- Exploiter la **parallélisation massive** du GPU pour traiter efficacement de grands ensembles de données.\n",
    "\n",
    "\n",
    "\n",
    "</div>\n",
    "\n",
    "💡 **Astuce** : Utilisez le décorateur `@vectorize` avec `target='cuda'` pour que Numba compile la fonction pour **une exécution parallèle sur le GPU**.\n",
    "\n",
    "</div>"
   ]
  },
  {
   "cell_type": "code",
   "execution_count": null,
   "metadata": {
    "collapsed": true
   },
   "outputs": [],
   "source": [
    "def zero_suppress(waveform_value, threshold):\n",
    "    if waveform_value < threshold:\n",
    "        result = 0\n",
    "    else:\n",
    "        result = waveform_value\n",
    "    return result"
   ]
  },
  {
   "cell_type": "code",
   "execution_count": null,
   "metadata": {
    "collapsed": true
   },
   "outputs": [],
   "source": [
    "# This will throw an error until you successfully vectorize the `zero_suppress` function above.\n",
    "# The noise on the baseline should disappear when zero_suppress is implemented\n",
    "plt.plot(zero_suppress(waveform, 15))"
   ]
  },
  {
   "cell_type": "markdown",
   "metadata": {},
   "source": [
    "<div style=\"background-color:#eaf6fb; border-radius:8px; padding:20px; border-left:6px solid #4682b4; color:black; font-family:Arial, sans-serif;\">\n",
    "\n",
    "# <div style=\"text-align:center; border-radius:8px; padding:8px; color:white; margin:10px 0; font-size:100%; font-family:Arial, sans-serif; background-color:#4682b4;\"><b>🔍 3. 🚀 Gestion de la mémoire GPU </b></div>\n",
    "\n",
    "\n",
    "Jusqu'à présent, nous avons utilisé des **tableaux NumPy sur le CPU** comme **entrées et sorties** de nos fonctions GPU.  \n",
    "Numba a automatiquement **transféré ces données vers le GPU**, afin qu'elles puissent être traitées.  \n",
    "\n",
    "Cependant, **ce transfert automatique a un coût élevé** :  \n",
    "Après chaque exécution, **Numba renvoie automatiquement les résultats sur le CPU**, ce qui peut considérablement ralentir le programme.\n",
    "\n",
    "---\n",
    "\n",
    "#### ⚠️ **Pourquoi minimiser les transferts de données ?**\n",
    "📌 Le **[Guide des meilleures pratiques CUDA](https://docs.nvidia.com/cuda/cuda-c-best-practices-guide/index.html)** recommande :\n",
    "\n",
    "> **Haute priorité** : Minimiser les transferts de données entre l’hôte (CPU) et le périphérique (GPU),  \n",
    "> même si cela signifie exécuter certains noyaux sur le GPU qui n’apportent pas de gain de performance immédiat.\n",
    "\n",
    "---\n",
    "\n",
    "#### ✅ **Solution : Utiliser les CUDA Device Arrays**\n",
    "Une **approche optimisée** consiste à utiliser des **CUDA Device Arrays**, qui :\n",
    "- ❌ **Ne sont pas automatiquement copiés vers le CPU** après traitement.\n",
    "- ✅ **Peuvent être réutilisés** pour d'autres calculs **directement sur le GPU**.\n",
    "- 🔄 **Ne sont transférés vers le CPU que lorsque c’est réellement nécessaire**, réduisant ainsi le temps d’exécution.\n",
    "\n",
    "---\n",
    "\n",
    "#### ✨ Démonstration : Création d’une ufunc d’addition avec CUDA Device Arrays\n",
    "Voyons comment créer une **ufunc d’addition** tout en gérant **efficacement la mémoire GPU**. 🚀\n"
   ]
  },
  {
   "cell_type": "code",
   "execution_count": null,
   "metadata": {
    "collapsed": true
   },
   "outputs": [],
   "source": [
    "@vectorize(['float32(float32, float32)'], target='cuda')\n",
    "def add_ufunc(x, y):\n",
    "    return x + y"
   ]
  },
  {
   "cell_type": "code",
   "execution_count": null,
   "metadata": {
    "collapsed": true,
    "scrolled": true
   },
   "outputs": [],
   "source": [
    "n = 100000\n",
    "x = np.arange(n).astype(np.float32)\n",
    "y = 2 * x"
   ]
  },
  {
   "cell_type": "code",
   "execution_count": null,
   "metadata": {
    "collapsed": true
   },
   "outputs": [],
   "source": [
    "%timeit add_ufunc(x, y)  # Baseline performance with host arrays"
   ]
  },
  {
   "cell_type": "markdown",
   "metadata": {},
   "source": [
    "<div style=\"background-color:#eaf6fb; border-radius:8px; padding:20px; border-left:6px solid #4682b4; color:black; font-family:Arial, sans-serif;\">\n",
    "<div style=\"background-color: #e6f7ff; border-radius:8px; padding:15px; border-left:6px solid #1e90ff; color:black; font-family:Arial, sans-serif;\">\n",
    "\n",
    "### 🚀 Transfert des données du CPU vers le GPU avec `numba.cuda`\n",
    "\n",
    "Le module **`numba.cuda`** propose une fonction permettant de **copier des données du CPU vers le GPU** et de les stocker sous forme de **CUDA Device Arrays**.  \n",
    "\n",
    "📌 **Remarque importante** :\n",
    "- Lorsque nous affichons une **Device Array**, nous obtenons uniquement **des informations sur l’objet**.\n",
    "- Nous **ne voyons pas directement son contenu**, car les données sont stockées **sur le GPU**.\n",
    "- Pour afficher les valeurs, **il faut d'abord les transférer vers le CPU**, ce que nous verrons plus tard.\n",
    "\n",
    "\n",
    "</div>\n",
    "</div>\n"
   ]
  },
  {
   "cell_type": "code",
   "execution_count": null,
   "metadata": {
    "collapsed": true
   },
   "outputs": [],
   "source": [
    "from numba import cuda\n",
    "\n",
    "x_device = cuda.to_device(x)\n",
    "y_device = cuda.to_device(y)\n",
    "\n",
    "print(x_device)\n",
    "print(x_device.shape)\n",
    "print(x_device.dtype)"
   ]
  },
  {
   "cell_type": "markdown",
   "metadata": {},
   "source": [
    "<div style=\"background-color:#eaf6fb; border-radius:8px; padding:20px; border-left:6px solid #4682b4; color:black; font-family:Arial, sans-serif;\">\n",
    "<div style=\"background-color: #e6f7ff; border-radius:8px; padding:15px; border-left:6px solid #1e90ff; color:black; font-family:Arial, sans-serif;\">\n",
    "\n",
    "Les **CUDA Device Arrays** peuvent être **passés directement** en argument aux fonctions CUDA, **exactement comme des tableaux NumPy**.  \n",
    "En évitant les transferts de mémoire inutiles, **nous optimisons les performances** et **maximisons l’efficacité du GPU**. \n",
    "</div>\n",
    "</div>"
   ]
  },
  {
   "cell_type": "code",
   "execution_count": null,
   "metadata": {
    "collapsed": true
   },
   "outputs": [],
   "source": [
    "%timeit add_ufunc(x_device, y_device)"
   ]
  },
  {
   "cell_type": "markdown",
   "metadata": {},
   "source": [
    "<div style=\"background-color:#eaf6fb; border-radius:8px; padding:20px; border-left:6px solid #4682b4; color:black; font-family:Arial, sans-serif;\">\n",
    "<div style=\"background-color: #e6f7ff; border-radius:8px; padding:15px; border-left:6px solid #1e90ff; color:black; font-family:Arial, sans-serif;\">\n",
    "\n",
    "Étant donné que `x_device` et `y_device` sont **déjà stockés sur le GPU**, notre **benchmark est bien plus rapide**. ⚡\n",
    "\n",
    "#### ❌ **Problème : allocation et copie inutiles**\n",
    "- Actuellement, une **Device Array de sortie** est **automatiquement allouée**.\n",
    "- Après le calcul, elle est **copiée vers le CPU**, **même si nous ne l’assignons pas à une variable**.\n",
    "\n",
    "#### ✅ **Solution : créer manuellement le tableau de sortie**\n",
    "Nous pouvons éviter cette **allocation et copie inutiles** en créant le tableau de sortie directement sur le **GPU** à l’aide de [`numba.cuda.device_array()`](https://numba.pydata.org/numba-doc/dev/cuda-reference/memory.html#numba.cuda.device_array).\n",
    "\n",
    "Cela permet de :\n",
    "- **Contrôler l’allocation mémoire** sur le GPU.\n",
    "- **Éviter les transferts de données inutiles** entre GPU et CPU.\n",
    "- **Réutiliser le tableau de sortie** pour plusieurs opérations GPU avant de le rapatrier sur le CPU.\n",
    "\n",
    "Voyons comment mettre cela en pratique ! 🚀\n",
    "\n",
    "</div>\n",
    "</div>"
   ]
  },
  {
   "cell_type": "code",
   "execution_count": null,
   "metadata": {
    "collapsed": true
   },
   "outputs": [],
   "source": [
    "out_device = cuda.device_array(shape=(n,), dtype=np.float32)  # does not initialize the contents, like np.empty()"
   ]
  },
  {
   "cell_type": "markdown",
   "metadata": {
    "collapsed": true
   },
   "source": [
    "<div style=\"background-color:#eaf6fb; border-radius:8px; padding:20px; border-left:6px solid #4682b4; color:black; font-family:Arial, sans-serif;\">\n",
    "<div style=\"background-color: #e6f7ff; border-radius:8px; padding:15px; border-left:6px solid #1e90ff; color:black; font-family:Arial, sans-serif;\">\n",
    "\n",
    "Nous pouvons ensuite utiliser le mot-clé spécial **`out`** dans l’**ufunc** afin de **spécifier un tampon de sortie**.  \n",
    "\n",
    "Cela permet de **contrôler où le résultat est stocké** et **d'éviter les copies inutiles** entre le GPU et le CPU. \n",
    "\n",
    "</div>\n",
    "</div>"
   ]
  },
  {
   "cell_type": "code",
   "execution_count": null,
   "metadata": {
    "collapsed": true
   },
   "outputs": [],
   "source": [
    "%timeit add_ufunc(x_device, y_device, out=out_device)"
   ]
  },
  {
   "cell_type": "markdown",
   "metadata": {},
   "source": [
    "<div style=\"background-color:#eaf6fb; border-radius:8px; padding:20px; border-left:6px solid #4682b4; color:black; font-family:Arial, sans-serif;\">\n",
    "<div style=\"background-color: #e6f7ff; border-radius:8px; padding:15px; border-left:6px solid #1e90ff; color:black; font-family:Arial, sans-serif;\">\n",
    "\n",
    "L’appel à **`add_ufunc`** dans ce cas **ne génère aucun transfert de données** entre l’hôte (**CPU**) et le périphérique (**GPU**), ce qui garantit une **exécution ultra-rapide**. 🚀\n",
    "\n",
    "Si nous avons besoin de récupérer une **Device Array** sur le CPU, nous pouvons utiliser la méthode **`copy_to_host()`** :\n",
    "\n",
    "\n",
    "</div>\n",
    "</div>\n"
   ]
  },
  {
   "cell_type": "code",
   "execution_count": null,
   "metadata": {
    "collapsed": true
   },
   "outputs": [],
   "source": [
    "out_host = out_device.copy_to_host()\n",
    "print(out_host[:10])"
   ]
  },
  {
   "cell_type": "markdown",
   "metadata": {},
   "source": [
    "<div style=\"background-color:#eaf6fb; border-radius:8px; padding:20px; border-left:6px solid #4682b4; color:black; font-family:Arial, sans-serif;\">\n",
    "<div style=\"background-color: #e6f7ff; border-radius:8px; padding:15px; border-left:6px solid #1e90ff; color:black; font-family:Arial, sans-serif;\">\n",
    "\n",
    "### ⚖️ Comparaison équitable des performances \n",
    "\n",
    "Vous pourriez penser que notre **comparaison n'est pas totalement équitable**, car nous **n’avons pas inclus les appels à `to_device` dans le benchmark** des Device Arrays, alors que les **transferts implicites** sont comptabilisés lorsque nous utilisons des tableaux hôte (`a` et `b`).  \n",
    " \n",
    "\n",
    "Cependant, notre fonction **`add_func`** n’est **pas un bon candidat pour l’accélération GPU**, comme mentionné précédemment.  \n",
    "L’objectif ici était **uniquement de démontrer** comment éliminer **les transferts inutiles** entre le **CPU et le GPU**.\n",
    "\n",
    "#### 📌 **Bonne pratique : mesurer l’impact des transferts**\n",
    "🔹 **Toujours benchmarker les transferts de données** pour évaluer si **l’accélération GPU est réellement bénéfique**.  \n",
    "🔹 **Dans certains cas, le coût des transferts peut annuler le gain en calcul parallèle**.  \n",
    "\n",
    "---\n",
    "\n",
    "#### 📚 **Gestion avancée de la mémoire GPU**\n",
    "Numba propose **d’autres méthodes** pour gérer la mémoire et les transferts entre le **CPU et le GPU**.  \n",
    "Consultez la **[documentation officielle](https://numba.pydata.org/numba-doc/dev/cuda/memory.html)** pour découvrir **toutes les options disponibles**. 🚀\n",
    "</div>\n",
    "</div>\n"
   ]
  },
  {
   "cell_type": "markdown",
   "metadata": {},
   "source": [
    "<div style=\"background-color:#eaf6fb; border-radius:8px; padding:20px; border-left:6px solid #4682b4; color:black; font-family:Arial, sans-serif;\">\n",
    "<div style=\"background-color: #e6f7ff; border-radius:8px; padding:15px; border-left:6px solid #1e90ff; color:black; font-family:Arial, sans-serif;\">\n",
    "\n",
    "\n",
    "\n",
    "### **🏋️‍♂️  Consigne  : Optimiser les transferts de mémoire**\n",
    "\n",
    "Étant donné ces **ufuncs** :\n"
   ]
  },
  {
   "cell_type": "code",
   "execution_count": null,
   "metadata": {
    "collapsed": true
   },
   "outputs": [],
   "source": [
    "import math\n",
    "\n",
    "@vectorize(['float32(float32, float32, float32)'], target='cuda')\n",
    "def make_pulses(i, period, amplitude):\n",
    "    return max(math.sin(i / period) - 0.3, 0.0) * amplitude\n",
    "\n",
    "n = 100000\n",
    "noise = (np.random.normal(size=n) * 3).astype(np.float32)\n",
    "t = np.arange(n, dtype=np.float32)\n",
    "period = n / 23"
   ]
  },
  {
   "cell_type": "markdown",
   "metadata": {},
   "source": [
    "<div style=\"background-color:#eaf6fb; border-radius:8px; padding:20px; border-left:6px solid #4682b4; color:black; font-family:Arial, sans-serif;\">\n",
    "<div style=\"background-color: #e6f7ff; border-radius:8px; padding:15px; border-left:6px solid #1e90ff; color:black; font-family:Arial, sans-serif;\">\n",
    "\n",
    "\n",
    "<div style=\"background-color:#fae1e1; border-radius:8px; padding:15px; border-left:6px solid#bf2929; color:black; font-family:Arial, sans-serif;\">\n",
    "\n",
    "\n",
    "### **⚡ Optimisation : Éviter les transferts de données inutiles**\n",
    "\n",
    "Actuellement, dans la cellule ci-dessous, un **transfert de données superflu** a lieu entre le **CPU (hôte)** et le **GPU (périphérique)** :\n",
    "1. **Après** l’appel à `make_pulses`, les données sont **renvoyées au CPU**.\n",
    "2. **Avant** l’appel à `add_ufunc`, elles sont **recopiées sur le GPU**.\n",
    "\n",
    "### 📌 **Objectif : Réduire les transferts CPU-GPU**\n",
    "\n",
    "🔹 **Effectuer une seule copie** des données vers le GPU **avant** `make_pulses`.  \n",
    "🔹 **Garder les données sur le GPU** jusqu'à ce que tous les calculs soient terminés.  \n",
    "🔹 **Rapatrier les données vers le CPU** **seulement après** `add_ufunc`.\n",
    "\n",
    "💡 **Mise à jour à effectuer** :\n",
    "- **Utiliser les allocations GPU** (`numba.cuda.device_array`) pour stocker les données sur le **GPU** entre les appels de fonction.  \n",
    "- **Remplacer les copies intermédiaires** par une gestion plus efficace de la mémoire.\n",
    "\n",
    "\n"
   ]
  },
  {
   "cell_type": "code",
   "execution_count": null,
   "metadata": {
    "collapsed": true
   },
   "outputs": [],
   "source": [
    "pulses = make_pulses(t, period, 100.0)\n",
    "waveform = add_ufunc(pulses, noise)"
   ]
  },
  {
   "cell_type": "code",
   "execution_count": null,
   "metadata": {
    "collapsed": true
   },
   "outputs": [],
   "source": [
    "%matplotlib inline\n",
    "from matplotlib import pyplot as plt\n",
    "plt.plot(waveform)"
   ]
  },
  {
   "cell_type": "markdown",
   "metadata": {},
   "source": [
    "<div style=\"background-color:#eaf6fb; border-radius:8px; padding:20px; border-left:6px solid #4682b4; color:black; font-family:Arial, sans-serif;\">\n",
    "\n",
    "# <div style=\"text-align:center; border-radius:8px; padding:8px; color:white; margin:10px 0; font-size:100%; font-family:Arial, sans-serif; background-color:#4682b4;\"><b>🔍 4. ⚡ Accélérer les calculs des réseaux neuronaux sur GPU </b></div>\n",
    "\n",
    "Dans cet exercice, vous devrez **mettre en pratique toutes les techniques** apprises jusqu'à présent pour **accélérer les calculs d’un réseau de neurones sur GPU**. \n",
    "\n",
    "Nous allons **réécrire et optimiser** une version simplifiée du code effectuant les calculs nécessaires à la création d’une **couche cachée dans un réseau de neurones**.  \n",
    "\n",
    "#### 📌 **Travail effectué par le code :**\n",
    "- **Normalisation** des valeurs en niveaux de gris.\n",
    "- **Application des poids** aux neurones.\n",
    "- **Application d’une fonction d’activation**.\n",
    "\n",
    "#### 🎯 **Objectif : Accélérer ces calculs avec le GPU**\n",
    "Votre tâche consiste à **déplacer ces opérations sur le GPU** en utilisant les **techniques d’accélération avec Numba** que vous avez apprises, **tout en garantissant l’exactitude des calculs**.  \n",
    "\n",
    "🚀 **Optimisation attendue** :\n",
    "- ✅ Utiliser **les ufuncs et la vectorisation GPU**.\n",
    "- ✅ Minimiser **les transferts CPU-GPU** pour éviter les ralentissements.\n",
    "- ✅ Exploiter **les CUDA Device Arrays** pour une gestion efficace de la mémoire.\n",
    "\n",
    "### **📥 Importation des bibliothèques et initialisation des valeurs**\n",
    "\n",
    "Avant de commencer, exécutez cette cellule pour **importer les bibliothèques nécessaires** et **initialiser les valeurs** requises pour l’exercice.  \n",
    "\n",
    "\n",
    "🚀 **Exécutez la cellule ci-dessous avant de poursuivre !**"
   ]
  },
  {
   "cell_type": "code",
   "execution_count": null,
   "metadata": {
    "collapsed": true
   },
   "outputs": [],
   "source": [
    "# You should not modify this cell, it contains imports and initial values needed to do work on either\n",
    "# the CPU or the GPU.\n",
    "\n",
    "import numpy as np\n",
    "from numba import cuda, vectorize\n",
    "\n",
    "# Our hidden layer will contain 1M neurons.\n",
    "# When you assess your work below, this value will be automatically set to 100M.\n",
    "n = 1000000\n",
    "\n",
    "greyscales = np.floor(np.random.uniform(0, 255, n).astype(np.float32))\n",
    "weights = np.random.normal(.5, .1, n).astype(np.float32)"
   ]
  },
  {
   "cell_type": "markdown",
   "metadata": {},
   "source": [
    "<div style=\"background-color:#eaf6fb; border-radius:8px; padding:20px; border-left:6px solid #4682b4; color:black; font-family:Arial, sans-serif;\">\n",
    "<div style=\"background-color:#fae1e1; border-radius:8px; padding:15px; border-left:6px solid#bf2929; color:black; font-family:Arial, sans-serif;\">\n",
    "\n",
    "\n",
    "## 🚀 Accélération GPU\n",
    "\n",
    "Dans cette section, vous devrez **modifier chacune des 3 cellules** pour optimiser les calculs sur **GPU** avant d'évaluer vos résultats.\n",
    "\n",
    "📌 **Instructions :**\n",
    "- **Suivez les commentaires** dans chaque cellule pour savoir où apporter des modifications.\n",
    "- **Utilisez les techniques apprises** : `@vectorize`, `@cuda.jit`, `device_array`, etc.\n",
    "- **Optimisez les transferts de mémoire** entre le **CPU et le GPU**.\n",
    "- **Vérifiez l’exactitude des résultats** après optimisation.\n",
    "\n",
    "💡 **Astuce** : Testez **chaque modification progressivement** pour s’assurer que les calculs restent corrects.\n",
    "\n",
    "🔥 **À vous de jouer !**"
   ]
  },
  {
   "cell_type": "code",
   "execution_count": null,
   "metadata": {
    "collapsed": true
   },
   "outputs": [],
   "source": [
    "# As you will recall, `numpy.exp` works on the CPU, but, cannot be used in GPU implmentations.\n",
    "# This import will work for the CPU-only boilerplate code provided below, but\n",
    "# you will need to modify this import before your GPU implementation will work.\n",
    "from numpy import exp"
   ]
  },
  {
   "cell_type": "code",
   "execution_count": null,
   "metadata": {
    "collapsed": true
   },
   "outputs": [],
   "source": [
    "def normalize(grayscales):\n",
    "    return grayscales / 255\n",
    "\n",
    "def weigh(values, weights):\n",
    "    return values * weights\n",
    "        \n",
    "def activate(values):\n",
    "    return ( exp(values) - exp(-values) ) / ( exp(values) + exp(-values) )"
   ]
  },
  {
   "cell_type": "code",
   "execution_count": null,
   "metadata": {},
   "outputs": [],
   "source": [
    "# Modify these 3 previous function calls to run on the GPU.\n",
    "\n",
    "\n",
    "        "
   ]
  },
  {
   "cell_type": "code",
   "execution_count": null,
   "metadata": {
    "collapsed": true
   },
   "outputs": [],
   "source": [
    "\n",
    "def create_hidden_layer(n, greyscales, weights, exp, normalize, weigh, activate):\n",
    "    \n",
    "    normalized = normalize(greyscales)\n",
    "    weighted = weigh(normalized, weights)\n",
    "    activated = activate(weighted)\n",
    "    \n",
    "    return activated"
   ]
  },
  {
   "cell_type": "code",
   "execution_count": null,
   "metadata": {},
   "outputs": [],
   "source": [
    "# Modify the body of this function to optimize data transfers and therefore speed up performance.\n",
    "# As a constraint, even after you move work to the GPU, make this function return a host array.\n",
    "# Modify the body of this function to optimize data transfers and therefore speed up performance.\n",
    "# As a constraint, even after you move work to the GPU, make this function return a host array.\n",
    "\n"
   ]
  },
  {
   "cell_type": "markdown",
   "metadata": {},
   "source": [
    "<div style=\"background-color:#eaf6fb; border-radius:8px; padding:20px; border-left:6px solid #4682b4; color:black; font-family:Arial, sans-serif;\">\n",
    "<div style=\"background-color:#fae1e1; border-radius:8px; padding:15px; border-left:6px solid#bf2929; color:black; font-family:Arial, sans-serif;\">\n",
    "\n",
    "### 🛠️ Vérifiez votre travail\n",
    "\n",
    "**Vérifier votre implémentation**.\n"
   ]
  },
  {
   "cell_type": "code",
   "execution_count": null,
   "metadata": {
    "collapsed": true
   },
   "outputs": [],
   "source": [
    "# You probably don't need to edit this cell, unless you change the name of any of the values being passed as\n",
    "# arguments to `create_hidden_layer` below.\n",
    "arguments = {\"n\":n,\n",
    "            \"greyscales\": greyscales,\n",
    "            \"weights\": weights,\n",
    "            \"exp\": exp,\n",
    "            \"normalize\": normalize,\n",
    "            \"weigh\": weigh,\n",
    "            \"activate\": activate}"
   ]
  },
  {
   "cell_type": "code",
   "execution_count": null,
   "metadata": {
    "collapsed": true
   },
   "outputs": [],
   "source": [
    "%timeit a = create_hidden_layer(**arguments)\n",
    "%timeit b = create_hidden_layer_gpu(**arguments)\n",
    "print(a)\n",
    "print(b)"
   ]
  },
  {
   "cell_type": "markdown",
   "metadata": {},
   "source": [
    "<div style=\"background-color:#eaf6fb; border-radius:8px; padding:20px; border-left:6px solid #4682b4; color:black; font-family:Arial, sans-serif;\">\n",
    "\n",
    "# <div style=\"text-align:center; border-radius:8px; padding:8px; color:white; margin:10px 0; font-size:100%; font-family:Arial, sans-serif; background-color:#4682b4;\"><b>✅ 5. Conslusion</b></div>\n",
    "\n",
    "\n",
    "\n",
    "\n",
    "À présent que vous avez terminé ce TP, vous êtes capable de :\n",
    "\n",
    "- ✅ Utiliser **Numba** pour compiler des fonctions Python sur le **CPU**.\n",
    "- ✅ Comprendre le processus de compilation des fonctions avec **Numba**.\n",
    "- ✅ **Accélérer sur GPU** des **ufuncs NumPy**.\n",
    "- ✅ **Accélérer sur GPU** des fonctions vectorisées écrites manuellement.\n",
    "- ✅ Optimiser les **transferts de mémoire** entre l’hôte **CPU** et le périphérique **GPU**.\n",
    "\n",
    "\n",
    "</div></div>\n"
   ]
  },
  {
   "cell_type": "markdown",
   "metadata": {},
   "source": [
    "\n",
    "<div style=\"background-color:#eaf6fb; border-radius:8px; padding:20px; border-left:6px solid #4682b4; color:black; font-family:Arial, sans-serif;\">\n",
    "\n",
    "# <div style=\"text-align:center; border-radius:8px; padding:8px; color:white; margin:10px 0; font-size:100%; font-family:Arial, sans-serif; background-color:#4682b4;\"><b> 🎁 6. 📚 Annexe : Ufuncs généralisées (*Generalized Ufuncs*)</b></div>\n",
    "\n",
    "\n",
    "Les **ufuncs** appliquent une fonction scalaire à des **entrées sous forme de tableaux**, mais que faire si vous voulez appliquer une **fonction sur des tableaux de dimensions inférieures** à des **tableaux de dimensions supérieures** ? Cela s'appelle une **ufunc généralisée** (*generalized ufunc* ou **gufunc**), et cela ouvre un tout nouveau champ d'applications pour les ufuncs.\n",
    "\n",
    "---\n",
    "\n",
    "#### 🔹 **Pourquoi les gufuncs sont-elles utiles ?**\n",
    "Les **gufuncs** permettent de :\n",
    "- Diffuser des **fonctions plus complexes** sur des tableaux de dimensions variées.\n",
    "- Gérer des **modèles complexes d'indexation** pour plusieurs entrées.\n",
    "- Effectuer des calculs comme la normalisation L2 ou les sommes par lignes sur des tableaux de grandes dimensions.\n",
    "\n",
    "---\n",
    "\n",
    "#### 🔸 **Signature des gufuncs**\n",
    "Contrairement aux ufuncs classiques, les gufuncs nécessitent une **signature** (différente de la signature de type Numba). Cette signature :\n",
    "- Décrit l'**ordre des index** pour les entrées et sorties.\n",
    "- Permet de gérer **des opérations multidimensionnelles**.\n",
    "\n",
    "ℹ️ **Explication complète des signatures** :\n",
    "- [Docs NumPy sur les gufuncs](https://docs.scipy.org/doc/numpy/reference/c-api.generalized-ufuncs.html)\n",
    "- [Docs Numba sur les gufuncs](http://numba.pydata.org/numba-doc/latest/user/vectorize.html#the-guvectorize-decorator)\n",
    "- [Docs Numba sur les CUDA gufuncs](http://numba.pydata.org/numba-doc/latest/cuda/ufunc.html#generalized-cuda-ufuncs)\n",
    "\n",
    "---\n",
    "\n",
    "#### ✨ Exemple : Fonction de normalisation\n",
    "Créons une fonction de normalisation qui :\n",
    "- Accepte un tableau en entrée.\n",
    "- Calcule la **norme L2** le long de la dernière dimension.\n",
    "\n",
    "#### ⚠️ Remarque :\n",
    "- Les **gufuncs** prennent le tableau de sortie comme **dernier argument**, au lieu de retourner une valeur.\n",
    "- Si la sortie est un scalaire, elle sera représentée comme un tableau d'une dimension inférieure à celle de l'entrée.\n",
    "\n",
    "#### 🔍 Exemple de résultats :\n",
    "1. **Somme des lignes d'un tableau 2D** : Retourne un tableau 1D.\n",
    "2. **Somme des matrices d'un tableau 3D** : Retourne un tableau 2D.\n",
    "\n",
    "\n",
    "</div></div>\n"
   ]
  },
  {
   "cell_type": "code",
   "execution_count": null,
   "metadata": {
    "collapsed": true
   },
   "outputs": [],
   "source": [
    "from numba import guvectorize\n",
    "import math\n",
    "\n",
    "@guvectorize(['(float32[:], float32[:])'], # have to include the output array in the type signature\n",
    "             '(i)->()',                 # map a 1D array to a scalar output\n",
    "             target='cuda')\n",
    "def l2_norm(vec, out):\n",
    "    acc = 0.0\n",
    "    for value in vec:\n",
    "        acc += value**2\n",
    "    out[0] = math.sqrt(acc)"
   ]
  },
  {
   "cell_type": "markdown",
   "metadata": {},
   "source": [
    "---"
   ]
  },
  {
   "cell_type": "markdown",
   "metadata": {},
   "source": [
    "<div style=\"background-color:#eaf6fb; border-radius:8px; padding:20px; border-left:6px solid #4682b4; color:black; font-family:Arial, sans-serif;\">\n",
    "\n",
    "**🧪 Tester la fonction : Construire des points sur le cercle unité**\n",
    "</div>"
   ]
  },
  {
   "cell_type": "code",
   "execution_count": null,
   "metadata": {
    "collapsed": true
   },
   "outputs": [],
   "source": [
    "angles = np.random.uniform(-np.pi, np.pi, 10)\n",
    "coords = np.stack([np.cos(angles), np.sin(angles)], axis=1)\n",
    "print(coords)"
   ]
  },
  {
   "cell_type": "markdown",
   "metadata": {},
   "source": [
    "<div style=\"background-color:#eaf6fb; border-radius:8px; padding:20px; border-left:6px solid #4682b4; color:black; font-family:Arial, sans-serif;\">\n",
    "\n",
    "**✅ Résultat attendu : La norme L2 est égale à 1.0**\n",
    "</div>"
   ]
  },
  {
   "cell_type": "code",
   "execution_count": null,
   "metadata": {
    "collapsed": true
   },
   "outputs": [],
   "source": [
    "l2_norm(coords)"
   ]
  },
  {
   "cell_type": "markdown",
   "metadata": {},
   "source": [
    "<hr style=\"height: 5px; background: linear-gradient(to right, #007BFF, #00C3FF); border: none;\">\n",
    "\n",
    "<hr style=\"height: 5px; background: linear-gradient(to right, #007BFF, #00C3FF); border: none;\">"
   ]
  },
  {
   "cell_type": "markdown",
   "metadata": {},
   "source": [
    "\n",
    "# <div style=\"text-align:center; border-radius:15px 50px; padding:15px; color:white; margin:0; font-size:150%; font-family:Pacifico; background-color:#2a6199; overflow:hidden\"><b>  🧠  TP 3.2 -  Calcul Accélérée avec CUDA Python (NUMBA) </b> \n",
    "\n",
    "\n",
    "\n",
    "<div style=\"background-color:#eaf6fb; border-radius:8px; padding:20px; border-left:6px solid #4682b4; color:black; font-family:Arial, sans-serif;\">\n",
    "\n",
    "# <div style=\"text-align:center; border-radius:8px; padding:10px; color:white; margin:10px 0; font-size:110%; font-family:Arial, sans-serif; background-color: #4682b4;\"><b>1. Introduction aux Kernels CUDA avec Numba </b></div>\n",
    "\n",
    "\n",
    "Dans cette section, nous approfondirons notre compréhension du **modèle de programmation CUDA** pour organiser le travail parallèle. Nous utiliserons ces connaissances pour écrire des **kernels CUDA personnalisés**, des fonctions exécutées en parallèle sur les GPU CUDA.\n",
    "\n",
    "### 🎯 **Qu'est-ce qu'un kernel CUDA personnalisé ?**\n",
    "Un **kernel CUDA** est une fonction qui :\n",
    "- S’exécute directement sur un **GPU CUDA**.\n",
    "- Permet de répartir les calculs **massivement parallèles**.\n",
    "- Offre une flexibilité et des performances optimales dans des cas où les **ufuncs** ne suffisent pas.\n",
    "\n",
    "### 🛠️ **Pourquoi utiliser des kernels personnalisés ?**\n",
    "Bien que plus complexes à implémenter (par rapport à un simple décorateur `@vectorize`), les kernels personnalisés permettent de :\n",
    "- Réaliser des calculs parallèles dans des scénarios où les **ufuncs ne peuvent pas être appliquées**.\n",
    "- Exploiter pleinement la **puissance du GPU** en optimisant l'organisation des threads et blocs.\n",
    "- Gérer des cas d'utilisation complexes nécessitant un contrôle total sur les calculs parallèles.\n",
    "\n",
    "---\n",
    "\n",
    "### 📚 **Contenu de cette partie 2 :**\n",
    "- **Organisation du travail parallèle** avec le modèle de programmation CUDA.\n",
    "- **Écriture et exécution de kernels CUDA personnalisés** avec Numba.\n",
    "- Exploration des **meilleures pratiques** pour optimiser les calculs sur GPU.\n",
    "\n",
    "---\n",
    "\n",
    "\n",
    "🎯 **Objectif final :** Apprendre à écrire des kernels CUDA personnalisés pour **déverrouiller le potentiel maximal du GPU** dans vos applications ! \n",
    "\n"
   ]
  },
  {
   "cell_type": "code",
   "execution_count": null,
   "metadata": {},
   "outputs": [],
   "source": [
    "from IPython.display import IFrame\n",
    "\n",
    "IFrame('./AC_CUDA_Python_1.pptx', width=640, height=390)"
   ]
  },
  {
   "cell_type": "markdown",
   "metadata": {},
   "source": [
    "<div style=\"background-color:#eaf6fb; border-radius:8px; padding:20px; border-left:6px solid #4682b4; color:black; font-family:Arial, sans-serif;\">\n",
    "\n",
    "# <div style=\"text-align:center; border-radius:8px; padding:8px; color:white; margin:10px 0; font-size:100%; font-family:Arial, sans-serif; background-color:#4682b4;\"><b>✅ 2. Premier Kernel CUDA : Addition de Tableaux 1D</b></div>\n",
    "\n",
    "\n",
    "\n",
    "Nous allons commencer par un **exemple simple et concret** en **réécrivant notre fonction d'addition** pour des **tableaux NumPy 1D** sur GPU.\n",
    "\n",
    "#### 🔹 **Compilation avec `numba.cuda.jit`**\n",
    "Les **kernels CUDA** sont **compilés** à l'aide du **décorateur `numba.cuda.jit`**, qui :\n",
    "- 🔹 Génère un **code machine optimisé pour le GPU**.\n",
    "- 🔹 Ne doit **pas être confondu** avec `numba.jit`, qui est destiné **à l’optimisation CPU**.\n",
    "\n",
    "---\n",
    "\n",
    "#### 🎯 **Objectif**\n",
    "- ✅ Comprendre **comment structurer un kernel CUDA** en Python avec **Numba**.\n",
    "- ✅ Apprendre à **exécuter un kernel sur le GPU** en définissant une **configuration de threads et de blocs**.\n",
    "- ✅ Poser les bases pour **des kernels plus avancés**, adaptés à des calculs massivement parallèles.\n",
    "\n",
    "---\n",
    "\n",
    "💡 **Lisez attentivement les commentaires** dans le code, ils expliquent des **concepts essentiels** sur la structure et l’exécution des kernels CUDA ! 🚀"
   ]
  },
  {
   "cell_type": "code",
   "execution_count": null,
   "metadata": {},
   "outputs": [],
   "source": [
    "from numba import cuda\n",
    "\n",
    "# Note the use of an `out` array. CUDA kernels written with `@cuda.jit` do not return values,\n",
    "# just like their C counterparts. Also, no explicit type signature is required with @cuda.jit\n",
    "@cuda.jit\n",
    "def add_kernel(x, y, out):\n",
    "    \n",
    "    # The actual values of the following CUDA-provided variables for thread and block indices,\n",
    "    # like function parameters, are not known until the kernel is launched.\n",
    "    \n",
    "    # This calculation gives a unique thread index within the entire grid (see the slides above for more)\n",
    "    idx = cuda.grid(1)          # 1 = one dimensional thread grid, returns a single value.\n",
    "                                # This Numba-provided convenience function is equivalent to\n",
    "                                # `cuda.threadIdx.x + cuda.blockIdx.x * cuda.blockDim.x`\n",
    "\n",
    "    # This thread will do the work on the data element with the same index as its own\n",
    "    # unique index within the grid.\n",
    "    out[idx] = x[idx] + y[idx]"
   ]
  },
  {
   "cell_type": "code",
   "execution_count": null,
   "metadata": {},
   "outputs": [],
   "source": [
    "import numpy as np\n",
    "\n",
    "n = 4096\n",
    "x = np.arange(n).astype(np.int32) # [0...4095] on the host\n",
    "y = np.ones_like(x)               # [1...1] on the host\n",
    "\n",
    "d_x = cuda.to_device(x) # Copy of x on the device\n",
    "d_y = cuda.to_device(y) # Copy of y on the device\n",
    "d_out = cuda.device_array_like(d_x) # Like np.array_like, but for device arrays\n",
    "\n",
    "# Because of how we wrote the kernel above, we need to have a 1 thread to one data element mapping,\n",
    "# therefore we define the number of threads in the grid (128*32) to equal n (4096).\n",
    "threads_per_block = 128\n",
    "blocks_per_grid = 32"
   ]
  },
  {
   "cell_type": "code",
   "execution_count": null,
   "metadata": {},
   "outputs": [],
   "source": [
    "add_kernel[blocks_per_grid, threads_per_block](d_x, d_y, d_out)\n",
    "cuda.synchronize()\n",
    "print(d_out.copy_to_host()) # Should be [1...4096]"
   ]
  },
  {
   "cell_type": "markdown",
   "metadata": {},
   "source": [
    "<div style=\"background-color:#eaf6fb; border-radius:8px; padding:20px; border-left:6px solid #4682b4; color:black; font-family:Arial, sans-serif;\">\n",
    "\n",
    "\n",
    "<div style=\"background-color:#fae1e1; border-radius:8px; padding:15px; border-left:6px solid#bf2929; color:black; font-family:Arial, sans-serif;\">\n",
    "\n",
    "## 🏋️‍♂️ Exercice : Modifier le Code et Observer les Effets\n",
    "\n",
    "Expérimentez avec la configuration des threads et des blocs dans le kernel CUDA.  \n",
    "Avant d’exécuter chaque modification, **faites une hypothèse** sur son impact sur l'exécution.\n",
    "\n",
    "---\n",
    "\n",
    "### 🔹 **Modifications à tester :**\n",
    "1. 📉 **Diminuer** la variable `threads_per_block`.\n",
    "2. 📉 **Diminuer** la variable `blocks_per_grid`.\n",
    "3. 📈 **Augmenter** `threads_per_block` et/ou `blocks_per_grid`.\n",
    "4. ❌ **Commenter ou supprimer** l’appel à `cuda.synchronize()`.\n",
    "\n",
    "---\n",
    "\n",
    "\n"
   ]
  },
  {
   "cell_type": "code",
   "execution_count": null,
   "metadata": {},
   "outputs": [],
   "source": [
    "# to be modified\n",
    "import numpy as np\n",
    "\n",
    "n = 4096\n",
    "x = np.arange(n).astype(np.int32) # [0...4095] on the host\n",
    "y = np.ones_like(x)               # [1...1] on the host\n",
    "\n",
    "d_x = cuda.to_device(x) # Copy of x on the device\n",
    "d_y = cuda.to_device(y) # Copy of y on the device\n",
    "d_out = cuda.device_array_like(d_x) # Like np.array_like, but for device arrays\n",
    "\n",
    "# Because of how we wrote the kernel above, we need to have a 1 thread to one data element mapping,\n",
    "# therefore we define the number of threads in the grid (128*32) to equal n (4096).\n",
    "threads_per_block = 128\n",
    "blocks_per_grid = 32"
   ]
  },
  {
   "cell_type": "code",
   "execution_count": null,
   "metadata": {},
   "outputs": [],
   "source": [
    "add_kernel[blocks_per_grid, threads_per_block](d_x, d_y, d_out)\n",
    "cuda.synchronize()\n",
    "print(d_out.copy_to_host()) # Should be [1...4096]"
   ]
  },
  {
   "cell_type": "markdown",
   "metadata": {},
   "source": [
    "<div style=\"background-color:#eaf6fb; border-radius:8px; padding:20px; border-left:6px solid #4682b4; color:black; font-family:Arial, sans-serif;\">\n",
    "\n",
    "\n",
    "### 🧐 Résultats et Explications\n",
    "\n",
    "#### 🏗️ **1 & 2 - Réduction du nombre total de threads**\n",
    "- **Effet** : Certains éléments du tableau `d_out` ne seront pas mis à jour.\n",
    "- **Pourquoi ?** Le kernel est conçu pour que **chaque thread traite un élément unique**.\n",
    "  - Moins de threads = certains éléments restent non modifiés.\n",
    "  - Si **`threads_per_block` diminue**, des **éléments répartis** dans `d_out` sont manquants.\n",
    "  - Si **`blocks_per_grid` diminue**, les **derniers éléments** de `d_out` sont ignorés.\n",
    "\n",
    "---\n",
    "\n",
    "#### 🏗️ **3 - Augmentation du nombre total de threads**\n",
    "- **Effet** : Peut provoquer des accès mémoire hors limites (*out of bounds*).\n",
    "- **Pourquoi ?** Le kernel **essaie d’accéder à des indices de mémoire inexistants**.\n",
    "  - Actuellement, cette erreur ne s'affichera pas directement.\n",
    "  - Plus tard, nous verrons comment utiliser `cuda-memcheck` pour **détecter ces erreurs**.\n",
    "\n",
    "---\n",
    "\n",
    "#### 🏗️ **4 - Suppression de `cuda.synchronize()`**\n",
    "- **Effet attendu** : Peut-être un affichage incorrect, des calculs incomplets ?\n",
    "- **Effet réel** : **Aucun impact**.\n",
    "- **Pourquoi ?** Les **copies de mémoire entre CPU et GPU impliquent une synchronisation implicite**.\n",
    "  - L’appel à `cuda.synchronize()` **n'est pas strictement nécessaire** ici.\n",
    "  - Il reste cependant **utile dans d’autres scénarios** pour s’assurer que les calculs sont bien terminés.\n",
    "\n",
    "---\n",
    "\n",
    "### 🎯 **Conclusion**\n",
    "- ✅ Ajuster **`threads_per_block` et `blocks_per_grid`** est crucial pour **garantir que tous les éléments sont traités**.\n",
    "- ⚠️ Augmenter **trop de threads** sans contrôle peut entraîner **des erreurs d’accès mémoire**.\n",
    "- 💡 La **synchronisation implicite** via les transferts mémoire **évite le besoin d’un `cuda.synchronize()` dans ce cas**.\n",
    "\n",
    "\n",
    "---\n",
    "\n",
    "<div style=\"background-color:#fae1e1; border-radius:8px; padding:15px; border-left:6px solid#bf2929; color:black; font-family:Arial, sans-serif;\">\n",
    "\n",
    "### 🏋️‍♂️ Exercice : Accélérer une Fonction CPU en un Kernel CUDA\n",
    "\n",
    "Nous avons ci-dessous une **fonction scalaire CPU** `square_device`, qui pourrait être utilisée comme **ufunc** sur CPU.  \n",
    "Votre mission est de **la transformer en un kernel CUDA** avec le décorateur `@cuda.jit`.\n",
    "\n",
    "#### ❓ **Pourquoi transformer cette fonction en kernel CUDA ?**\n",
    "✅ Bien que l'on puisse utiliser `@vectorize` pour simplifier cette tâche, cet exercice vous permet :\n",
    "- **D'appliquer toutes les notions introduites** sur l’écriture et l’exécution d’un kernel CUDA.\n",
    "- **D'apprendre à gérer la configuration des threads et des blocs**.\n",
    "- **De manipuler la mémoire GPU** en utilisant **des CUDA device arrays**.\n",
    "\n",
    "---\n",
    "\n",
    "#### 🎯 **Tâches à réaliser :**\n",
    "1. **Refactoriser** `square_device` pour en faire un **kernel CUDA** :\n",
    "   - ✅ Il doit traiter **un seul élément** par thread.\n",
    "   - ✅ Il doit utiliser la **hiérarchie des threads** (thread ID global).\n",
    "   \n",
    "2. **Convertir** `d_a` et `d_out` en **CUDA device arrays**.\n",
    "\n",
    "3. **Modifier** les variables `blocks` et `threads` pour avoir une **configuration adaptée** à la taille `n` :\n",
    "   - ✅ Définir le **nombre optimal de threads par bloc**.\n",
    "   - ✅ Définir **le nombre de blocs nécessaires**.\n",
    "\n",
    "4. **Lancer** `square_device` avec une **configuration d’exécution** correcte :\n",
    "   ```python\n",
    "   square_device[blocks, threads](d_a, d_out)\n",
    "\n",
    "✅ Validation de votre solution\n",
    "\t•\tUn test d’assertion est inclus à la fin du code.\n",
    "\t•\tTant que l’implémentation n’est pas correcte, le test échouera.\n",
    "\t•\tUne fois votre solution fonctionnelle, le test passera avec succès. 🎉\n",
    "\n",
    "\n"
   ]
  },
  {
   "cell_type": "code",
   "execution_count": null,
   "metadata": {},
   "outputs": [],
   "source": [
    "\n",
    "def square_device(a):\n",
    "    return a**2"
   ]
  },
  {
   "cell_type": "code",
   "execution_count": null,
   "metadata": {},
   "outputs": [],
   "source": [
    "# Refactor to be a CUDA kernel doing one thread's work.\n",
    "# Don't forget that when using `@cuda.jit`, you must provide an output array as no value will be returned.\n"
   ]
  },
  {
   "cell_type": "code",
   "execution_count": null,
   "metadata": {},
   "outputs": [],
   "source": [
    "# Leave the values in this cell fixed for this exercise\n",
    "n = 4096\n",
    "\n",
    "a = np.arange(n)\n",
    "out = a**2 # `out` will only be used for testing below"
   ]
  },
  {
   "cell_type": "code",
   "execution_count": null,
   "metadata": {},
   "outputs": [],
   "source": [
    "d_a = a                  # TODO make `d_a` a device array\n",
    "d_out = np.zeros_like(a) # TODO: make d_out a device array\n",
    "\n",
    "# TODO: Update the execution configuration for the amount of work needed\n",
    "blocks = 0\n",
    "threads = 0\n",
    "\n",
    "# TODO: Launch as a kernel with an appropriate execution configuration\n",
    "d_out = square_device(d_a)"
   ]
  },
  {
   "cell_type": "code",
   "execution_count": null,
   "metadata": {},
   "outputs": [],
   "source": [
    "from numpy import testing\n",
    "testing.assert_almost_equal(d_out, out)"
   ]
  },
  {
   "cell_type": "markdown",
   "metadata": {},
   "source": [
    "<div style=\"background-color:#eaf6fb; border-radius:8px; padding:20px; border-left:6px solid #4682b4; color:black; font-family:Arial, sans-serif;\">\n",
    "\n",
    "# <div style=\"text-align:center; border-radius:8px; padding:8px; color:white; margin:10px 0; font-size:100%; font-family:Arial, sans-serif; background-color:#4682b4;\"><b>✅ 3. Gérer la Latence et Optimiser la Configuration des Threads CUDA</b></div>\n",
    "\n",
    "\n",
    "\n",
    "\n",
    "### 🔹 **Comprendre l'architecture des GPU NVIDIA**\n",
    "Les **GPU NVIDIA compatibles CUDA** sont constitués de plusieurs **Streaming Multiprocessors (SMs)**, chacun contenant :\n",
    "- 💡 **Plusieurs cœurs CUDA** pour exécuter les instructions en parallèle.\n",
    "- 📌 **Une mémoire DRAM attachée** pour stocker les données nécessaires.\n",
    "- 🔄 **Une capacité à gérer plusieurs blocs de threads simultanément**.\n",
    "\n",
    "---\n",
    "\n",
    "### 🎯 **Le concept clé : cacher la latence avec des warps**\n",
    "📌 Lorsqu'une instruction prend **plusieurs cycles d'horloge** pour s'exécuter (**expire**), le SM peut continuer d'exécuter d'autres instructions **si des warps sont disponibles**.\n",
    "\n",
    "✅ **Pourquoi est-ce important ?**\n",
    "- Les SMs utilisent **de grands fichiers de registres** qui permettent un **changement de contexte ultra-rapide**.\n",
    "- Un **SM bien occupé** maximise les performances en **évitant les temps morts**.\n",
    "\n",
    "🛠️ **Conclusion : Pour utiliser pleinement le GPU, il faut fournir aux SMs un nombre suffisant de warps prêts à être exécutés !**\n",
    "\n",
    "---\n",
    "\n",
    "### 📌 **Heuristiques pour choisir la bonne configuration des threads**\n",
    "Il n'existe **pas de configuration unique idéale**, mais voici **des règles empiriques** pour bien débuter :\n",
    "\n",
    "1️⃣ **Taille d’un bloc de threads (block size)** :\n",
    "   - ✅ **Un multiple de 32 threads** (taille d’un warp).\n",
    "   - ✅ En général entre **128 et 512 threads par bloc**.\n",
    "\n",
    "2️⃣ **Taille de la grille (grid size)** :\n",
    "   - ✅ **Utiliser un nombre de blocs suffisant pour occuper tout le GPU**.\n",
    "   - ✅ **Bon point de départ** : lancer **2x à 4x le nombre de SMs** présents sur le GPU.\n",
    "   - ✅ En général, **20 - 100 blocs** est une bonne configuration initiale.\n",
    "\n",
    "3️⃣ **Gestion des très grandes entrées** :\n",
    "   - 📌 **Éviter de lancer autant de threads que d’éléments d’entrée**.\n",
    "   - 📌 Trop de **petits blocs** augmente la **surcharge de lancement des kernels**.\n",
    "   - ✅ **Solution** : Utiliser une **stratégie d’accès optimisée** (que nous allons explorer ensuite).\n",
    "\n",
    "---\n",
    "\n",
    "### 🚀 **Résumé : Bonnes pratiques pour optimiser un kernel CUDA**\n",
    "✔️ **Utiliser des blocs de threads multiples de 32 (warp size).**  \n",
    "✔️ **Maximiser le nombre de warps actifs pour cacher la latence.**  \n",
    "✔️ **Choisir une grille qui occupe bien tous les SMs.**  \n",
    "✔️ **Éviter un trop grand nombre de petits blocs.**  \n",
    "\n",
    "💡 **Prochaine étape** : Explorer **les patterns d’accès optimisés** pour **traiter efficacement de grandes entrées** ! 🔥"
   ]
  },
  {
   "cell_type": "markdown",
   "metadata": {},
   "source": [
    "<div style=\"background-color:#eaf6fb; border-radius:8px; padding:20px; border-left:6px solid #4682b4; color:black; font-family:Arial, sans-serif;\">\n",
    "\n",
    "# <div style=\"text-align:center; border-radius:8px; padding:8px; color:white; margin:10px 0; font-size:100%; font-family:Arial, sans-serif; background-color:#4682b4;\"><b>✅ 4. Gérer de Très Grandes Données avec les Grid Stride Loops</b></div>\n",
    "\n",
    "\n",
    "\n",
    "Lorsqu'on travaille avec **d'énormes ensembles de données**, une approche naïve consistant à lancer **un thread par élément** devient rapidement inefficace.  \n",
    "\n",
    "### 🎯 **Solution : les Grid Stride Loops**\n",
    "Cette technique permet de :\n",
    "- ✅ **Optimiser l’utilisation des threads CUDA** en leur attribuant **plusieurs éléments à traiter**.\n",
    "- ✅ **Gérer efficacement des datasets de grande taille** en évitant d’allouer un thread unique par élément.\n",
    "- ✅ **Éviter les limitations sur le nombre de threads** en réutilisant ceux déjà actifs.\n",
    "\n",
    "---\n",
    "\n",
    "### 📌 **Comment ça fonctionne ?**\n",
    "Un **Grid Stride Loop** permet à chaque thread de :\n",
    "1️⃣ **Travailler sur plusieurs éléments de l’entrée**, au lieu d’un seul.  \n",
    "2️⃣ **Boucler à travers les indices** en incrémentant de **gridDim.x * blockDim.x**.  \n",
    "3️⃣ **Maximiser l’occupation du GPU** sans nécessiter un nombre excessif de threads.\n",
    "\n",
    "---\n",
    "\n",
    "\n",
    "\n"
   ]
  },
  {
   "cell_type": "code",
   "execution_count": null,
   "metadata": {},
   "outputs": [],
   "source": [
    "from IPython.display import IFrame\n",
    "IFrame('./AC_CUDA_Python_2.pptx', 640, 390)"
   ]
  },
  {
   "cell_type": "markdown",
   "metadata": {},
   "source": [
    "<div style=\"background-color:#eaf6fb; border-radius:8px; padding:20px; border-left:6px solid #4682b4; color:black; font-family:Arial, sans-serif;\">\n",
    "\n",
    "## Premier Grid Stride Loop : Optimisation du Kernel `add_kernel`\n",
    "\n",
    "Nous allons **réécrire** notre kernel `add_kernel` pour **intégrer une Grid Stride Loop**.  \n",
    "Cette technique permet d'exécuter le kernel **sur de grands ensembles de données**, tout en optimisant l'accès mémoire.\n",
    "\n",
    "---\n",
    "\n",
    "### 🎯 **Pourquoi utiliser une Grid Stride Loop ?**\n",
    "1️⃣ **Évolutivité** : Permet d’exécuter un kernel **sans contrainte** sur la taille des données.  \n",
    "2️⃣ **Réduction des accès mémoire** : Optimise le **coalescement mémoire global** (global **memory coalescing**).  \n",
    "3️⃣ **Meilleure utilisation du GPU** : Exploite **au maximum** les threads actifs en leur attribuant **plusieurs éléments** à traiter.\n",
    "\n",
    "---\n",
    "\n",
    "### 🏗️ **Comment fonctionne une Grid Stride Loop ?**\n",
    "Un thread CUDA **ne traite plus un seul élément**, mais :\n",
    "- 🏎️ **Itère à travers plusieurs éléments** en incrémentant de **gridDim.x * blockDim.x**.\n",
    "- 🔄 **Travaille sur les données en mémoire globale** de manière optimisée.\n",
    "- 🚀 **Réduit les opérations mémoire inutiles**, améliorant ainsi les performances.\n",
    "\n",
    "---\n",
    "\n",
    "<div style=\"background-color:#fae1e1; border-radius:8px; padding:15px; border-left:6px solid#bf2929; color:black; font-family:Arial, sans-serif;\">\n",
    "\n",
    "### 🏋️‍♂️ Exercice :\n",
    "\n",
    "✅ Modifier `add_kernel` pour **qu’il utilise une Grid Stride Loop**.  \n",
    "✅ Tester le nouveau kernel **avec des ensembles de données de grande taille**.  \n",
    "✅ Observer les **gains de performances** en comparant avec la version précédente.\n",
    "\n"
   ]
  },
  {
   "cell_type": "code",
   "execution_count": null,
   "metadata": {},
   "outputs": [],
   "source": [
    "from numba import cuda\n",
    "\n",
    "@cuda.jit\n",
    "def add_kernel(x, y, out):\n",
    "    \n",
    "\n",
    "    start = cuda.grid(1)\n",
    "    \n",
    "    # This calculation gives the total number of threads in the entire grid\n",
    "    stride = cuda.gridsize(1)   # 1 = one dimensional thread grid, returns a single value.\n",
    "                                # This Numba-provided convenience function is equivalent to\n",
    "                                # `cuda.blockDim.x * cuda.gridDim.x`\n",
    "\n",
    "    # This thread will start work at the data element index equal to that of its own\n",
    "    # unique index in the grid, and then, will stride the number of threads in the grid each\n",
    "    # iteration so long as it has not stepped out of the data's bounds. In this way, each\n",
    "    # thread may work on more than one data element, and together, all threads will work on\n",
    "    # every data element.\n",
    "    for i in range(start, x.shape[0], stride):\n",
    "        # Assuming x and y inputs are same length\n",
    "        out[i] = x[i] + y[i]"
   ]
  },
  {
   "cell_type": "code",
   "execution_count": null,
   "metadata": {},
   "outputs": [],
   "source": [
    "import numpy as np\n",
    "\n",
    "n = 100000 # This is far more elements than threads in our grid\n",
    "x = np.arange(n).astype(np.int32)\n",
    "y = np.ones_like(x)\n",
    "\n",
    "d_x = cuda.to_device(x)\n",
    "d_y = cuda.to_device(y)\n",
    "d_out = cuda.device_array_like(d_x)\n",
    "\n",
    "threads_per_block = 128\n",
    "blocks_per_grid = 30"
   ]
  },
  {
   "cell_type": "code",
   "execution_count": null,
   "metadata": {},
   "outputs": [],
   "source": [
    "add_kernel[blocks_per_grid, threads_per_block](d_x, d_y, d_out)\n",
    "print(d_out.copy_to_host()) # Remember, memory copy carries implicit synchronization"
   ]
  },
  {
   "cell_type": "markdown",
   "metadata": {},
   "source": [
    "<div style=\"background-color:#eaf6fb; border-radius:8px; padding:20px; border-left:6px solid #4682b4; color:black; font-family:Arial, sans-serif;\">\n",
    "\n",
    "\n",
    "\n",
    "<div style=\"background-color:#fae1e1; border-radius:8px; padding:15px; border-left:6px solid#bf2929; color:black; font-family:Arial, sans-serif;\">\n",
    "\n",
    "\n",
    "\n",
    "\n",
    "### 🏋️‍♂️ Exercice : 📌 **Implémenter une Grid Stride Loop**\n",
    "\n",
    "Nous allons **refactoriser** la fonction scalaire CPU `hypot_stride` pour la **transformer en un kernel CUDA** utilisant une **Grid Stride Loop**.\n",
    "\n",
    "1️⃣ **Transformer la fonction** en un kernel CUDA (`@cuda.jit`).  \n",
    "2️⃣ **Déterminer l’ID global du thread** pour accéder aux données.  \n",
    "3️⃣ **Utiliser une Grid Stride Loop** :\n",
    "   - 📌 Le thread doit **itérer** sur plusieurs éléments avec un pas de `gridDim.x * blockDim.x`.  \n",
    "   - 📌 **Optimiser l'accès mémoire** pour tirer parti du **coalescement mémoire global**.\n",
    "  \n",
    "4️⃣ **Configurer correctement** les `blocks` et `threads` pour tester la performance du kernel.\n",
    "\n",
    "---\n",
    "\n",
    "\n",
    "\n",
    "\n"
   ]
  },
  {
   "cell_type": "code",
   "execution_count": null,
   "metadata": {},
   "outputs": [],
   "source": [
    "from math import hypot\n",
    "\n",
    "def hypot_stride(a, b, c):\n",
    "    c = hypot(a, b)"
   ]
  },
  {
   "cell_type": "code",
   "execution_count": null,
   "metadata": {},
   "outputs": [],
   "source": [
    "#Tap your solution here\n"
   ]
  },
  {
   "cell_type": "code",
   "execution_count": null,
   "metadata": {},
   "outputs": [],
   "source": [
    "# You do not need to modify the contents in this cell\n",
    "n = 1000000\n",
    "a = np.random.uniform(-12, 12, n).astype(np.float32)\n",
    "b = np.random.uniform(-12, 12, n).astype(np.float32)\n",
    "d_a = cuda.to_device(a)\n",
    "d_b = cuda.to_device(b)\n",
    "d_c = cuda.device_array_like(d_b)\n",
    "\n",
    "blocks = 128\n",
    "threads_per_block = 64\n",
    "\n",
    "hypot_stride[blocks, threads_per_block](d_a, d_b, d_c)"
   ]
  },
  {
   "cell_type": "code",
   "execution_count": null,
   "metadata": {},
   "outputs": [],
   "source": [
    "from numpy import testing\n",
    "# This assertion will fail until you successfully implement the hypot_stride kernel above\n",
    "testing.assert_almost_equal(np.hypot(a,b), d_c.copy_to_host(), decimal=5)"
   ]
  },
  {
   "cell_type": "markdown",
   "metadata": {},
   "source": [
    "<div style=\"background-color:#eaf6fb; border-radius:8px; padding:20px; border-left:6px solid #4682b4; color:black; font-family:Arial, sans-serif;\">\n",
    "\n",
    "## ⏱️ Mesurer la Performance du Kernel `hypot_stride`\n",
    "\n",
    "Maintenant que nous avons optimisé `hypot_stride` avec une **Grid Stride Loop**, il est temps d’évaluer **ses performances** sur GPU. \n",
    "\n",
    "### 🏁 Référence CPU : Mesurer la Performance de `np.hypot`\n",
    "\n",
    "Avant d’analyser l’accélération GPU, nous devons d’abord **établir une base de référence** en mesurant la performance de la version CPU avec **`np.hypot`**.\n"
   ]
  },
  {
   "cell_type": "code",
   "execution_count": null,
   "metadata": {},
   "outputs": [],
   "source": [
    "%timeit np.hypot(a, b)"
   ]
  },
  {
   "cell_type": "markdown",
   "metadata": {},
   "source": [
    "<div style=\"background-color:#eaf6fb; border-radius:8px; padding:20px; border-left:6px solid #4682b4; color:black; font-family:Arial, sans-serif;\">\n",
    "\n",
    "### Accélération CPU avec Numba\n",
    "\n",
    "Après avoir mesuré la performance de `np.hypot`, nous allons maintenant tester une **version optimisée pour le CPU** avec **Numba**."
   ]
  },
  {
   "cell_type": "code",
   "execution_count": null,
   "metadata": {},
   "outputs": [],
   "source": [
    "from numba import jit\n",
    "\n",
    "@jit\n",
    "def numba_hypot(a, b):\n",
    "    return np.hypot(a, b)"
   ]
  },
  {
   "cell_type": "code",
   "execution_count": null,
   "metadata": {},
   "outputs": [],
   "source": [
    "%timeit numba_hypot(a, b)"
   ]
  },
  {
   "cell_type": "markdown",
   "metadata": {},
   "source": [
    "<div style=\"background-color:#eaf6fb; border-radius:8px; padding:20px; border-left:6px solid #4682b4; color:black; font-family:Arial, sans-serif;\">\n",
    "\n",
    "### Exécution Monothread sur le GPU\n",
    "\n",
    "Avant d’évaluer l’accélération parallèle du GPU, **lançons notre kernel avec un seul thread** pour observer son comportement.\n",
    "\n",
    "1️⃣ **Lancer le kernel avec une grille de 1 bloc et 1 thread**.  \n",
    "2️⃣ **Utiliser `%time` au lieu de `%timeit`**, car CUDA a une file d’attente limitée.  \n",
    "3️⃣ **Ajouter un `cuda.synchronize()`** pour éviter que l’horloge CPU ne mesure du temps avant la fin du kernel.  \n"
   ]
  },
  {
   "cell_type": "code",
   "execution_count": null,
   "metadata": {},
   "outputs": [],
   "source": [
    "%time hypot_stride[1, 1](d_a, d_b, d_c); cuda.synchronize()"
   ]
  },
  {
   "cell_type": "markdown",
   "metadata": {},
   "source": [
    "<div style=\"background-color:#eaf6fb; border-radius:8px; padding:20px; border-left:6px solid #4682b4; color:black; font-family:Arial, sans-serif;\">\n",
    "\n",
    "Sans surprise, **exécuter un kernel CUDA avec un seul thread** est **bien plus lent** que l’exécution sur CPU.  \n",
    "\n",
    "###  Exécution Parallèle sur le GPU\n",
    "\n",
    "Après avoir observé les limites d’un kernel exécuté **avec un seul thread**, lançons-le maintenant en **mode massivement parallèle** sur le GPU ! "
   ]
  },
  {
   "cell_type": "code",
   "execution_count": null,
   "metadata": {},
   "outputs": [],
   "source": [
    "%time hypot_stride[128, 64](d_a, d_b, d_c); cuda.synchronize()"
   ]
  },
  {
   "cell_type": "markdown",
   "metadata": {},
   "source": [
    "<div style=\"background-color:#eaf6fb; border-radius:8px; padding:20px; border-left:6px solid #4682b4; color:black; font-family:Arial, sans-serif;\">\n",
    "\n",
    "\n",
    "#### ⚡ Résultat : Une Exécution GPU Massivement Plus Rapide !\n",
    "\n",
    "Nous avons maintenant une accélération significative grâce au parallélisme GPU !\n",
    "\n",
    "### 📌 **Comparaison des performances**\n",
    "| Version           | Temps d’exécution ⏱️  | Observations 📌 |\n",
    "|------------------|-------------------|----------------|\n",
    "| **CPU (NumPy)**  | 🐌 Lent             | Bonne référence de base |\n",
    "| **Numba (CPU JIT)**  | ⚡ Plus rapide que NumPy | Accélération CPU |\n",
    "| **CUDA (1 thread)** | 🚨 Très lent    | Mauvaise utilisation du GPU |\n",
    "| **CUDA (Parallèle)** | 🚀 Ultra rapide !  | **Optimisation maximale** |\n",
    "\n",
    "---"
   ]
  },
  {
   "cell_type": "markdown",
   "metadata": {},
   "source": [
    "<div style=\"background-color:#eaf6fb; border-radius:8px; padding:20px; border-left:6px solid #4682b4; color:black; font-family:Arial, sans-serif;\">\n",
    "\n",
    "# <div style=\"text-align:center; border-radius:8px; padding:8px; color:white; margin:10px 0; font-size:100%; font-family:Arial, sans-serif; background-color:#4682b4;\"><b>⚠️ 4.  Opérations Atomiques et Éviter les Conditions de Concurrence (Race Conditions)</b></div>\n",
    "\n",
    "\n",
    "\n",
    "### 🔍 **Pourquoi les race conditions sont-elles un problème en CUDA ?**\n",
    "En programmation parallèle, **plusieurs threads accèdent simultanément à la même mémoire globale**, ce qui peut créer des **problèmes de concurrence** appelés **race conditions**.\n",
    "\n",
    "Deux types de conflits majeurs peuvent survenir :\n",
    "\n",
    "1️⃣ **Read-After-Write (RAW) hazard** :\n",
    "   - 🔹 Un thread **lit** une variable pendant qu'un autre **écrit** dessus.\n",
    "   - 🔹 La valeur lue peut être incorrecte ou incohérente.\n",
    "  \n",
    "2️⃣ **Write-After-Write (WAW) hazard** :\n",
    "   - 🔹 Deux threads **écrivent en même temps** sur la même adresse mémoire.\n",
    "   - 🔹 Une seule des écritures sera visible après l’exécution, rendant l’autre perdue.\n",
    "\n",
    "---\n",
    "\n",
    "### ✅ **Stratégies pour éviter les race conditions**\n",
    "✔️ **Assigner des éléments mémoire uniques à chaque thread**  \n",
    "✔️ **Éviter d'utiliser un même tableau comme entrée et sortie** dans un seul appel kernel  \n",
    "✔️ **Utiliser le double-buffering** pour alterner entre deux tableaux mémoire dans des algorithmes itératifs  \n",
    "✔️ **Utiliser des opérations atomiques si plusieurs threads doivent modifier une même valeur**  \n",
    "\n",
    "---\n",
    "\n",
    "### ⚡ **Pourquoi utiliser des opérations atomiques en CUDA ?**\n",
    "💡 **Exemple : Chaque thread incrémente un compteur global**  \n",
    "\n",
    "Pour cela, chaque thread doit :\n",
    "\n",
    "1️⃣ **Lire la valeur actuelle du compteur**  \n",
    "2️⃣ **Calculer `counter + 1`**  \n",
    "3️⃣ **Écrire la nouvelle valeur en mémoire globale**  \n",
    "\n",
    "👉 **Problème :** Un autre thread peut **modifier le compteur entre l’étape 1 et 3**, entraînant des erreurs.\n",
    "\n",
    "---\n",
    "\n",
    "### 🔒 **Solution : les Opérations Atomiques CUDA**\n",
    "Une **opération atomique** garantit que **la lecture, la modification et l’écriture** d’une variable partagée s’effectuent **en une seule étape indivisible**, empêchant ainsi les conflits entre threads.\n",
    "\n",
    "Numba prend en charge plusieurs **opérations atomiques** en CUDA, que vous pouvez retrouver ici :  \n",
    "📖 [Liste des opérations atomiques CUDA dans Numba](http://numba.pydata.org/numba-doc/dev/cuda/intrinsics.html#supported-atomic-operations)\n",
    "\n",
    "---"
   ]
  },
  {
   "cell_type": "code",
   "execution_count": null,
   "metadata": {},
   "outputs": [],
   "source": [
    "@cuda.jit\n",
    "def thread_counter_race_condition(global_counter):\n",
    "    global_counter[0] += 1  # This is bad\n",
    "    \n",
    "@cuda.jit\n",
    "def thread_counter_safe(global_counter):\n",
    "    cuda.atomic.add(global_counter, 0, 1)  # Safely add 1 to offset 0 in global_counter array"
   ]
  },
  {
   "cell_type": "code",
   "execution_count": null,
   "metadata": {},
   "outputs": [],
   "source": [
    "# This gets the wrong answer\n",
    "global_counter = cuda.to_device(np.array([0], dtype=np.int32))\n",
    "thread_counter_race_condition[64, 64](global_counter)\n",
    "\n",
    "print('Should be %d:' % (64*64), global_counter.copy_to_host())"
   ]
  },
  {
   "cell_type": "code",
   "execution_count": null,
   "metadata": {},
   "outputs": [],
   "source": [
    "# This works correctly\n",
    "global_counter = cuda.to_device(np.array([0], dtype=np.int32))\n",
    "thread_counter_safe[64, 64](global_counter)\n",
    "\n",
    "print('Should be %d:' % (64*64), global_counter.copy_to_host())"
   ]
  },
  {
   "cell_type": "markdown",
   "metadata": {},
   "source": [
    "<div style=\"background-color:#eaf6fb; border-radius:8px; padding:20px; border-left:6px solid #4682b4; color:black; font-family:Arial, sans-serif;\">\n",
    "\n",
    "\n",
    "\n",
    "<div style=\"background-color:#fae1e1; border-radius:8px; padding:15px; border-left:6px solid#bf2929; color:black; font-family:Arial, sans-serif;\">\n",
    "\n",
    "###  **Exercice : Implémenter un Kernel CUDA pour un Histogramme Accéléré**\n",
    "\n",
    "Dans cet exercice, vous allez **écrire un kernel CUDA optimisé** pour **calculer un histogramme en parallèle** sur le GPU.  \n",
    "\n",
    "\n",
    "\n",
    "✅ Prendre un **tableau de données en entrée**  \n",
    "✅ Définir une **plage et un nombre de bins**  \n",
    "✅ **Compter le nombre d’éléments** qui tombent dans chaque bin  \n",
    "✅ **Optimiser** l’algorithme pour **éviter les conflits de threads**  \n",
    "\n",
    "</div>"
   ]
  },
  {
   "cell_type": "code",
   "execution_count": null,
   "metadata": {},
   "outputs": [],
   "source": [
    "def cpu_histogram(x, xmin, xmax, histogram_out):\n",
    "    '''Increment bin counts in histogram_out, given histogram range [xmin, xmax).'''\n",
    "    # Note that we don't have to pass in nbins explicitly, because the size of histogram_out determines it\n",
    "    nbins = histogram_out.shape[0]\n",
    "    bin_width = (xmax - xmin) / nbins\n",
    "    \n",
    "    # This is a very slow way to do this with NumPy, but looks similar to what you will do on the GPU\n",
    "    for element in x:\n",
    "        bin_number = np.int32((element - xmin)/bin_width)\n",
    "        if bin_number >= 0 and bin_number < histogram_out.shape[0]:\n",
    "            # only increment if in range\n",
    "            histogram_out[bin_number] += 1"
   ]
  },
  {
   "cell_type": "code",
   "execution_count": null,
   "metadata": {},
   "outputs": [],
   "source": [
    "x = np.random.normal(size=10000, loc=0, scale=1).astype(np.float32)\n",
    "xmin = np.float32(-4.0)\n",
    "xmax = np.float32(4.0)\n",
    "histogram_out = np.zeros(shape=10, dtype=np.int32)\n",
    "\n",
    "cpu_histogram(x, xmin, xmax, histogram_out)\n",
    "\n",
    "histogram_out"
   ]
  },
  {
   "cell_type": "markdown",
   "metadata": {},
   "source": [
    "<div style=\"background-color:#eaf6fb; border-radius:8px; padding:20px; border-left:6px solid #4682b4; color:black; font-family:Arial, sans-serif;\">\n",
    "\n",
    "\n",
    "\n",
    "<div style=\"background-color:#fae1e1; border-radius:8px; padding:15px; border-left:6px solid#bf2929; color:black; font-family:Arial, sans-serif;\">\n",
    "\n",
    "## 📝 Instructions\n",
    "\n",
    "En utilisant une **Grid Stride Loop** et des **opérations atomiques**, implémentez votre solution dans la cellule ci-dessous.  \n"
   ]
  },
  {
   "cell_type": "code",
   "execution_count": null,
   "metadata": {},
   "outputs": [],
   "source": [
    "# Tap your solution here\n"
   ]
  },
  {
   "cell_type": "code",
   "execution_count": null,
   "metadata": {},
   "outputs": [],
   "source": [
    "\n",
    "# Allocate memory on the GPU\n",
    "d_x = cuda.to_device(x)\n",
    "d_histogram_out = cuda.to_device(np.zeros(shape=10, dtype=np.int32))\n",
    "\n",
    "# Define execution configuration\n",
    "blocks = 128\n",
    "threads_per_block = 64\n",
    "\n",
    "# Launch kernel\n",
    "cuda_histogram[blocks, threads_per_block](d_x, xmin, xmax, d_histogram_out)\n",
    "\n",
    "# Copy result back to host\n",
    "histogram_cuda = d_histogram_out.copy_to_host()"
   ]
  },
  {
   "cell_type": "code",
   "execution_count": null,
   "metadata": {},
   "outputs": [],
   "source": [
    "# This assertion will fail until you correctly implement `cuda_histogram`\n",
    "np.testing.assert_array_almost_equal(d_histogram_out.copy_to_host(), histogram_out, decimal=2)\n",
    "# Print results\n",
    "print(\"CPU Histogram:\", histogram_out)\n",
    "print(\"CUDA Histogram:\", histogram_cuda)"
   ]
  },
  {
   "cell_type": "markdown",
   "metadata": {},
   "source": [
    "<div style=\"background-color:#eaf6fb; border-radius:8px; padding:20px; border-left:6px solid #4682b4; color:black; font-family:Arial, sans-serif;\">\n",
    "\n",
    "# <div style=\"text-align:center; border-radius:8px; padding:8px; color:white; margin:10px 0; font-size:100%; font-family:Arial, sans-serif; background-color:#4682b4;\"><b>📝 5. Conslusion</b></div>\n",
    "\n",
    "\n",
    "\n",
    "Dans cette partie TP 3.2, vous avez appris à :\n",
    "\n",
    "✅ **Écrire des kernels CUDA personnalisés** en Python et les exécuter avec une **configuration d’exécution**.  \n",
    "✅ **Utiliser les Grid Stride Loops** pour traiter efficacement **de grands ensembles de données** tout en optimisant **l’accès mémoire (memory coalescing)**.  \n",
    "✅ **Exploiter les opérations atomiques** afin d’**éviter les conditions de course** (*race conditions*) lors de calculs parallèles.  \n",
    "\n",
    "\n"
   ]
  }
 ],
 "metadata": {
  "kernelspec": {
   "display_name": "base",
   "language": "python",
   "name": "python3"
  },
  "language_info": {
   "codemirror_mode": {
    "name": "ipython",
    "version": 3
   },
   "file_extension": ".py",
   "mimetype": "text/x-python",
   "name": "python",
   "nbconvert_exporter": "python",
   "pygments_lexer": "ipython3",
   "version": "3.12.3"
  }
 },
 "nbformat": 4,
 "nbformat_minor": 2
}
